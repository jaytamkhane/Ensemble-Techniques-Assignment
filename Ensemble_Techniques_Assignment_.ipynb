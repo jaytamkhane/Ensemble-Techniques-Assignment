{
  "nbformat": 4,
  "nbformat_minor": 0,
  "metadata": {
    "colab": {
      "provenance": []
    },
    "kernelspec": {
      "name": "python3",
      "display_name": "Python 3"
    },
    "language_info": {
      "name": "python"
    }
  },
  "cells": [
    {
      "cell_type": "markdown",
      "source": [
        "# Ensemble Techniques"
      ],
      "metadata": {
        "id": "X6ntBXnSMKFw"
      }
    },
    {
      "cell_type": "markdown",
      "source": [
        "## THEORY"
      ],
      "metadata": {
        "id": "sZXkBtgfMNxQ"
      }
    },
    {
      "cell_type": "markdown",
      "source": [
        "#### 1) Can we use Bagging for regression problems ?"
      ],
      "metadata": {
        "id": "IlKkMCp-MSIN"
      }
    },
    {
      "cell_type": "markdown",
      "source": [
        "Bagging for regression problems is common and effective technique for improving the stability and accuracy of regression models, particularly those prone to overfitting."
      ],
      "metadata": {
        "id": "zNG-quwiMSF3"
      }
    },
    {
      "cell_type": "markdown",
      "source": [
        "#### 2) What is the difference between multiple model training and single model training ?"
      ],
      "metadata": {
        "id": "WbGRNTcDMSCc"
      }
    },
    {
      "cell_type": "markdown",
      "source": [
        "In machine learning, single model training involves training a single model to perform a specific task, while multiple model training (often referred to as ensemble methods) uses multiple models, trained independently or with shared information, to improve prediction accuracy or robustness."
      ],
      "metadata": {
        "id": "Pe4alkM3MR_Z"
      }
    },
    {
      "cell_type": "markdown",
      "source": [
        "#### 3) Explain the concept of feature randomness in Random Forest."
      ],
      "metadata": {
        "id": "XFQdf2GfMR8k"
      }
    },
    {
      "cell_type": "markdown",
      "source": [
        "In Random Forest, feature randomness, also known as the random subspace method, means that at each node split, the algorithm randomly selects a subset of features to consider, rather than using all available features, which promotes diversity and reduces correlation among trees, leading to a more robust and accurate model."
      ],
      "metadata": {
        "id": "qVUCHvROMR54"
      }
    },
    {
      "cell_type": "markdown",
      "source": [
        "#### 4) What is OOB (Out-of-Bag) Score ?"
      ],
      "metadata": {
        "id": "CyhOuohzMR2x"
      }
    },
    {
      "cell_type": "markdown",
      "source": [
        "The Out-of-Bag (OOB) score, also known as the out-of-bag error, is a method for evaluating the performance of machine learning models, particularly random forests, by using data points that were not included in the bootstrap sample used to train a particular tree."
      ],
      "metadata": {
        "id": "JcnEyP1LMR0m"
      }
    },
    {
      "cell_type": "markdown",
      "source": [
        "#### 5) How can you measure the importance of features in a Random Forest model ?"
      ],
      "metadata": {
        "id": "X3QoyAG2MRw1"
      }
    },
    {
      "cell_type": "markdown",
      "source": [
        "We can measure feature importance in Random Forest model using the mean decrease in impurity (MDI) or Gini importance, which quantifies how much a feature reduces the impurity of the nodes in the decision trees. Alternatively, you can use permutation importance, which measures how much the model's performance degrades when a feature's values are randomly shuffled."
      ],
      "metadata": {
        "id": "HL2EYHmEMRu-"
      }
    },
    {
      "cell_type": "markdown",
      "source": [
        "#### 6) Explain the working principle of a Bagging Classifier."
      ],
      "metadata": {
        "id": "6wXoN7drMRrZ"
      }
    },
    {
      "cell_type": "markdown",
      "source": [
        "A Bagging classifier is an ensemble meta-estimator that fits base classifiers each on random subsets of the original dataset and then aggregate their individual predictions (either by voting or by averaging) to form a final prediction."
      ],
      "metadata": {
        "id": "orOIYRqUMRpm"
      }
    },
    {
      "cell_type": "markdown",
      "source": [
        "#### 7)  How do you evaluate a Bagging Classifier’s performance ?"
      ],
      "metadata": {
        "id": "hHiT7_lKMRne"
      }
    },
    {
      "cell_type": "markdown",
      "source": [
        "To evaluate a Bagging Classifier's performance, we should use standard classification metrics like accuracy, precision, recall, F1-score, and AUC-ROC, and potentially a confusion matrix, on a held-out test set after training the model."
      ],
      "metadata": {
        "id": "sGrh0_pQMRkc"
      }
    },
    {
      "cell_type": "markdown",
      "source": [
        "#### 8) How does a Bagging Regressor work ?"
      ],
      "metadata": {
        "id": "vlFIpi97MRhI"
      }
    },
    {
      "cell_type": "markdown",
      "source": [
        "A Bagging Regressor works by training multiple regression models on different subsets of the training data (created through bootstrapping) and then aggregating their predictions, typically by averaging, to produce a more robust and accurate final prediction."
      ],
      "metadata": {
        "id": "M2v7wJqUMRfG"
      }
    },
    {
      "cell_type": "markdown",
      "source": [
        "#### 9)  What is the main advantage of ensemble techniques ?"
      ],
      "metadata": {
        "id": "3PkS0iuXMRb0"
      }
    },
    {
      "cell_type": "markdown",
      "source": [
        "The main advantage of ensemble techniques in machine learning is improved predictive accuracy and robustness by combining the strengths of multiple models, mitigating individual model weaknesses and biases."
      ],
      "metadata": {
        "id": "nRrUL-ttMRZv"
      }
    },
    {
      "cell_type": "markdown",
      "source": [
        "#### 10) What is the main challenge of ensemble methods ?"
      ],
      "metadata": {
        "id": "-E7ctv30MRXW"
      }
    },
    {
      "cell_type": "markdown",
      "source": [
        "The main challenge with ensemble methods lies in their complexity and computational cost, stemming from the need to train and manage multiple models, which can increase training time and resource requirements."
      ],
      "metadata": {
        "id": "wTMVtHBZMRUh"
      }
    },
    {
      "cell_type": "markdown",
      "source": [
        "#### 11) Explain the key idea behind ensemble techniques."
      ],
      "metadata": {
        "id": "dQ1Tm7ZeMRRu"
      }
    },
    {
      "cell_type": "markdown",
      "source": [
        "Ensemble techniques in machine learning combine multiple models to achieve better predictive performance than any single model, leveraging the \"wisdom of crowds\" principle to improve accuracy and robustness."
      ],
      "metadata": {
        "id": "WoDEYmKdMRPo"
      }
    },
    {
      "cell_type": "markdown",
      "source": [
        "#### 12) What is a Random Forest Classifier ?"
      ],
      "metadata": {
        "id": "Pvg9jOEYQqRZ"
      }
    },
    {
      "cell_type": "markdown",
      "source": [
        "A Random Forest classifier is a machine learning algorithm that uses an ensemble of decision trees to classify data, improving accuracy and reducing overfitting by combining predictions from multiple trees."
      ],
      "metadata": {
        "id": "ugB5qZ8gQqPI"
      }
    },
    {
      "cell_type": "markdown",
      "source": [
        "#### 13) What are the main types of ensemble techniques ?"
      ],
      "metadata": {
        "id": "JlPRrXM2QqMt"
      }
    },
    {
      "cell_type": "markdown",
      "source": [
        "The main types of ensemble techniques are bagging, boosting, and stacking, which combine multiple models to improve predictive accuracy and robustness."
      ],
      "metadata": {
        "id": "6-6ajU56QqKT"
      }
    },
    {
      "cell_type": "markdown",
      "source": [
        "#### 14) What is ensemble learning in machine learning ?"
      ],
      "metadata": {
        "id": "f9ow-RsvQqHK"
      }
    },
    {
      "cell_type": "markdown",
      "source": [
        "Ensemble learning in machine learning combines predictions from multiple models to improve predictive performance, leveraging the strengths of different models and reducing the weaknesses of any single model."
      ],
      "metadata": {
        "id": "Frivfj4FQqEZ"
      }
    },
    {
      "cell_type": "markdown",
      "source": [
        "#### 15) When should we avoid using ensemble methods ?"
      ],
      "metadata": {
        "id": "LrPw6zJzQqCC"
      }
    },
    {
      "cell_type": "markdown",
      "source": [
        "Avoid ensemble methods when computational resources are severely limited, data is insufficient or highly correlated, or interpretability is paramount, as they can be computationally intensive, complex, and potentially difficult to explain."
      ],
      "metadata": {
        "id": "dLVwxSfCQp-n"
      }
    },
    {
      "cell_type": "markdown",
      "source": [
        "#### 16) How does Bagging help in reducing overfitting ?"
      ],
      "metadata": {
        "id": "eUWNUAGHRimT"
      }
    },
    {
      "cell_type": "markdown",
      "source": [
        "Bagging (Bootstrap Aggregating) reduces overfitting by training multiple models on different subsets of the data (created through bootstrapping), and then combining their predictions, which leads to a more stable and robust model that generalizes better to unseen data."
      ],
      "metadata": {
        "id": "W6li3hIIRijA"
      }
    },
    {
      "cell_type": "markdown",
      "source": [
        "#### 17) Why is Random Forest better than a single Decision Tree ?"
      ],
      "metadata": {
        "id": "sIRLivdFRigm"
      }
    },
    {
      "cell_type": "markdown",
      "source": [
        "Random Forest is generally considered better than a single decision tree because it mitigates overfitting, improves accuracy and generalization by combining multiple trees, and provides insights into feature importance."
      ],
      "metadata": {
        "id": "kFU_y46KRu0q"
      }
    },
    {
      "cell_type": "markdown",
      "source": [
        "#### 18) What is the role of bootstrap sampling in Bagging ?"
      ],
      "metadata": {
        "id": "YrSyFFvwRuyS"
      }
    },
    {
      "cell_type": "markdown",
      "source": [
        "In bagging (Bootstrap Aggregating), bootstrap sampling creates multiple diverse subsets of the training data by randomly sampling with replacement, which is crucial for training multiple models independently and aggregating their predictions to improve accuracy and reduce variance."
      ],
      "metadata": {
        "id": "MnFgmgppR7kH"
      }
    },
    {
      "cell_type": "markdown",
      "source": [
        "#### 19) What are some real-world applications of ensemble techniques ?"
      ],
      "metadata": {
        "id": "de21Kt4_R7hc"
      }
    },
    {
      "cell_type": "markdown",
      "source": [
        "Ensemble techniques, which combine multiple models for prediction, find real-world applications in diverse fields like finance, healthcare, computer vision, and fraud detection, improving accuracy and robustness."
      ],
      "metadata": {
        "id": "Y8Ltv1LnR7dz"
      }
    },
    {
      "cell_type": "markdown",
      "source": [
        "#### 20)  What is the difference between Bagging and Boosting ?"
      ],
      "metadata": {
        "id": "eWsH0_yxR7aL"
      }
    },
    {
      "cell_type": "markdown",
      "source": [
        "Bagging (Bootstrap Aggregating) and Boosting are ensemble methods that combine multiple models, but differ in how they train and combine those models. Bagging trains models independently and in parallel, while boosting trains models sequentially, with each model focusing on the errors of the previous ones."
      ],
      "metadata": {
        "id": "tl4oseHyR7Xz"
      }
    },
    {
      "cell_type": "markdown",
      "source": [
        "# PRACTICLE"
      ],
      "metadata": {
        "id": "DT0lmP5CR7VM"
      }
    },
    {
      "cell_type": "markdown",
      "source": [
        "#### 21) Train a Bagging Classifier using Decision Trees on a sample dataset and print model accuracy."
      ],
      "metadata": {
        "id": "aJm1fzBMR7Rn"
      }
    },
    {
      "cell_type": "code",
      "source": [
        "from sklearn.ensemble import BaggingClassifier\n",
        "from sklearn.tree import DecisionTreeClassifier\n",
        "from sklearn.model_selection import train_test_split\n",
        "from sklearn.datasets import make_classification\n",
        "from sklearn.metrics import accuracy_score\n",
        "\n",
        "# Generate a sample dataset\n",
        "X, y = make_classification(n_samples=1000, n_features=20, n_informative=15, n_redundant=2, random_state=42)\n",
        "\n",
        "# Split the dataset into training and testing sets\n",
        "X_train, X_test, y_train, y_test = train_test_split(X, y, test_size=0.2, random_state=42)\n",
        "\n",
        "# Create a Bagging Classifier with Decision Tree as the base estimator\n",
        "bagging_clf = BaggingClassifier(estimator=DecisionTreeClassifier(), n_estimators=10, random_state=42)\n",
        "\n",
        "# Train the classifier\n",
        "bagging_clf.fit(X_train, y_train)\n",
        "\n",
        "# Make predictions on the test set\n",
        "y_pred = bagging_clf.predict(X_test)\n",
        "\n",
        "# Evaluate the model's accuracy\n",
        "accuracy = accuracy_score(y_test, y_pred)\n",
        "print(f\"Model Accuracy: {accuracy}\")"
      ],
      "metadata": {
        "colab": {
          "base_uri": "https://localhost:8080/"
        },
        "id": "H0B0-WVwSylc",
        "outputId": "fdf11e22-7708-4dfa-eb6d-11c6de6bdb73"
      },
      "execution_count": 1,
      "outputs": [
        {
          "output_type": "stream",
          "name": "stdout",
          "text": [
            "Model Accuracy: 0.825\n"
          ]
        }
      ]
    },
    {
      "cell_type": "markdown",
      "source": [
        "#### 22) Train a Bagging Regressor using Decision Trees and evaluate using Mean Squared Error (MSE)."
      ],
      "metadata": {
        "id": "_CYs_H-gHa-9"
      }
    },
    {
      "cell_type": "code",
      "source": [
        "from sklearn.ensemble import BaggingRegressor\n",
        "from sklearn.tree import DecisionTreeRegressor\n",
        "from sklearn.model_selection import train_test_split\n",
        "from sklearn.datasets import make_regression\n",
        "from sklearn.metrics import mean_squared_error\n",
        "\n",
        "# Generate a sample regression dataset\n",
        "X, y = make_regression(n_samples=1000, n_features=10, n_informative=5, noise=0.5, random_state=42)\n",
        "\n",
        "# Split data into training and testing sets\n",
        "X_train, X_test, y_train, y_test = train_test_split(X, y, test_size=0.3, random_state=42)\n",
        "\n",
        "# Initialize BaggingRegressor with DecisionTreeRegressor as the base estimator\n",
        "bagging_regressor = BaggingRegressor(estimator=DecisionTreeRegressor(), n_estimators=10, random_state=42)\n",
        "\n",
        "# Train the model\n",
        "bagging_regressor.fit(X_train, y_train)\n",
        "\n",
        "# Make predictions\n",
        "y_pred = bagging_regressor.predict(X_test)\n",
        "\n",
        "# Evaluate using Mean Squared Error\n",
        "mse = mean_squared_error(y_test, y_pred)\n",
        "print(f\"Mean Squared Error: {mse}\")"
      ],
      "metadata": {
        "colab": {
          "base_uri": "https://localhost:8080/"
        },
        "id": "C4oFM-l3HlHu",
        "outputId": "fd18418a-c91c-44b6-d07d-3cdfca4bfab5"
      },
      "execution_count": 6,
      "outputs": [
        {
          "output_type": "stream",
          "name": "stdout",
          "text": [
            "Mean Squared Error: 235.6148516590017\n"
          ]
        }
      ]
    },
    {
      "cell_type": "markdown",
      "source": [
        "#### 23) Train a Random Forest Classifier on the Breast Cancer dataset and print feature importance scores."
      ],
      "metadata": {
        "id": "1Nwnuc4ZH9YL"
      }
    },
    {
      "cell_type": "code",
      "source": [
        "from sklearn.ensemble import RandomForestClassifier\n",
        "from sklearn.datasets import load_breast_cancer\n",
        "from sklearn.model_selection import train_test_split\n",
        "\n",
        "# Load the breast cancer dataset\n",
        "data = load_breast_cancer()\n",
        "X, y = data.data, data.target\n",
        "\n",
        "# Split data into training and testing sets\n",
        "X_train, X_test, y_train, y_test = train_test_split(X, y, test_size=0.3, random_state=42)\n",
        "\n",
        "# Initialize and train a Random Forest Classifier\n",
        "rf_classifier = RandomForestClassifier(n_estimators=100, random_state=42)\n",
        "rf_classifier.fit(X_train, y_train)\n",
        "\n",
        "# Get feature importances\n",
        "feature_importances = rf_classifier.feature_importances_\n",
        "\n",
        "# Print feature importance scores\n",
        "for i, importance in enumerate(feature_importances):\n",
        "    print(f\"Feature {data.feature_names[i]}: {importance}\")"
      ],
      "metadata": {
        "colab": {
          "base_uri": "https://localhost:8080/"
        },
        "id": "dmqwvI3gIICv",
        "outputId": "7f487160-4171-44b1-a15c-a1212c9f2a9b"
      },
      "execution_count": 7,
      "outputs": [
        {
          "output_type": "stream",
          "name": "stdout",
          "text": [
            "Feature mean radius: 0.032311888273301004\n",
            "Feature mean texture: 0.011063901250175845\n",
            "Feature mean perimeter: 0.060092333477412795\n",
            "Feature mean area: 0.05381045367561502\n",
            "Feature mean smoothness: 0.006223358550035776\n",
            "Feature mean compactness: 0.009215659698391042\n",
            "Feature mean concavity: 0.08055701642634591\n",
            "Feature mean concave points: 0.1419344436315119\n",
            "Feature mean symmetry: 0.003278068988046974\n",
            "Feature mean fractal dimension: 0.003140276443878005\n",
            "Feature radius error: 0.016434957577357797\n",
            "Feature texture error: 0.003171913625550393\n",
            "Feature perimeter error: 0.011769755537440448\n",
            "Feature area error: 0.029538418256883636\n",
            "Feature smoothness error: 0.005880791914760226\n",
            "Feature compactness error: 0.004596378662668866\n",
            "Feature concavity error: 0.005815899489496524\n",
            "Feature concave points error: 0.0033823220710919844\n",
            "Feature symmetry error: 0.0040007728493448805\n",
            "Feature fractal dimension error: 0.007134569189458313\n",
            "Feature worst radius: 0.07797474929691814\n",
            "Feature worst texture: 0.018785671163890155\n",
            "Feature worst perimeter: 0.07429212194132524\n",
            "Feature worst area: 0.11821685833472201\n",
            "Feature worst smoothness: 0.011769174205977244\n",
            "Feature worst compactness: 0.017539085585610643\n",
            "Feature worst concavity: 0.04107957505964944\n",
            "Feature worst concave points: 0.12713637963171595\n",
            "Feature worst symmetry: 0.01292944626553497\n",
            "Feature worst fractal dimension: 0.006923758925888881\n"
          ]
        }
      ]
    },
    {
      "cell_type": "markdown",
      "source": [
        "#### 24)  Train a Random Forest Regressor and compare its performance with a single Decision Tree."
      ],
      "metadata": {
        "id": "Rw8UucVuIUPQ"
      }
    },
    {
      "cell_type": "code",
      "source": [
        "from sklearn.ensemble import RandomForestRegressor\n",
        "from sklearn.tree import DecisionTreeRegressor\n",
        "from sklearn.model_selection import train_test_split\n",
        "from sklearn.datasets import make_regression\n",
        "from sklearn.metrics import mean_squared_error\n",
        "\n",
        "# Generate a sample regression dataset\n",
        "X, y = make_regression(n_samples=1000, n_features=10, n_informative=5, noise=0.5, random_state=42)\n",
        "\n",
        "# Split data into training and testing sets\n",
        "X_train, X_test, y_train, y_test = train_test_split(X, y, test_size=0.3, random_state=42)\n",
        "\n",
        "# Initialize and train a Random Forest Regressor\n",
        "rf_regressor = RandomForestRegressor(n_estimators=100, random_state=42)\n",
        "rf_regressor.fit(X_train, y_train)\n",
        "\n",
        "# Make predictions with Random Forest\n",
        "rf_predictions = rf_regressor.predict(X_test)\n",
        "\n",
        "# Evaluate Random Forest using Mean Squared Error\n",
        "rf_mse = mean_squared_error(y_test, rf_predictions)\n",
        "print(f\"Random Forest Mean Squared Error: {rf_mse}\")\n",
        "\n",
        "# Initialize and train a single Decision Tree Regressor\n",
        "dt_regressor = DecisionTreeRegressor(random_state=42)\n",
        "dt_regressor.fit(X_train, y_train)\n",
        "\n",
        "# Make predictions with Decision Tree\n",
        "dt_predictions = dt_regressor.predict(X_test)\n",
        "\n",
        "# Evaluate Decision Tree using Mean Squared Error\n",
        "dt_mse = mean_squared_error(y_test, dt_predictions)\n",
        "print(f\"Decision Tree Mean Squared Error: {dt_mse}\")\n",
        "\n",
        "# Compare the performance\n",
        "print(f\"Random Forest outperforms Decision Tree by {dt_mse-rf_mse}\")"
      ],
      "metadata": {
        "colab": {
          "base_uri": "https://localhost:8080/"
        },
        "id": "KyFHwW4CIfm5",
        "outputId": "d65e1882-f117-4af0-fa81-1103da3939a2"
      },
      "execution_count": 8,
      "outputs": [
        {
          "output_type": "stream",
          "name": "stdout",
          "text": [
            "Random Forest Mean Squared Error: 209.62684220447147\n",
            "Decision Tree Mean Squared Error: 529.1490311335322\n",
            "Random Forest outperforms Decision Tree by 319.5221889290607\n"
          ]
        }
      ]
    },
    {
      "cell_type": "markdown",
      "source": [
        "#### 25) Compute the Out-of-Bag (OOB) Score for a Random Forest Classifier."
      ],
      "metadata": {
        "id": "MgN4PASpIiDc"
      }
    },
    {
      "cell_type": "code",
      "source": [
        "# Load the breast cancer dataset\n",
        "data = load_breast_cancer()\n",
        "X, y = data.data, data.target\n",
        "\n",
        "# Initialize and train a Random Forest Classifier with OOB scoring\n",
        "rf_classifier = RandomForestClassifier(n_estimators=100, random_state=42, oob_score=True)\n",
        "rf_classifier.fit(X, y)\n",
        "\n",
        "# Get the OOB score\n",
        "oob_score = rf_classifier.oob_score_\n",
        "print(f\"Out-of-Bag (OOB) Score: {oob_score}\")"
      ],
      "metadata": {
        "colab": {
          "base_uri": "https://localhost:8080/"
        },
        "id": "1-bC-si9IgL3",
        "outputId": "4cd057fa-9ecd-44e5-9b6d-704cf72efa9d"
      },
      "execution_count": 9,
      "outputs": [
        {
          "output_type": "stream",
          "name": "stdout",
          "text": [
            "Out-of-Bag (OOB) Score: 0.961335676625659\n"
          ]
        }
      ]
    },
    {
      "cell_type": "markdown",
      "source": [
        "#### 26) Train a Bagging Classifier using SVM as a base estimator and print accuracy."
      ],
      "metadata": {
        "id": "Yt5iXWgdIvFl"
      }
    },
    {
      "cell_type": "code",
      "source": [
        "from sklearn.ensemble import BaggingClassifier\n",
        "from sklearn.svm import SVC\n",
        "from sklearn.model_selection import train_test_split\n",
        "from sklearn.datasets import make_classification\n",
        "from sklearn.metrics import accuracy_score\n",
        "\n",
        "# Generate a sample dataset\n",
        "X, y = make_classification(n_samples=1000, n_features=10, n_informative=5, random_state=42)\n",
        "\n",
        "# Split data into training and testing sets\n",
        "X_train, X_test, y_train, y_test = train_test_split(X, y, test_size=0.2, random_state=42)\n",
        "\n",
        "# Initialize Bagging Classifier with SVM as the base estimator\n",
        "bagging_svm = BaggingClassifier(estimator=SVC(), n_estimators=10, random_state=42)\n",
        "\n",
        "# Train the model\n",
        "bagging_svm.fit(X_train, y_train)\n",
        "\n",
        "# Make predictions\n",
        "y_pred = bagging_svm.predict(X_test)\n",
        "\n",
        "# Evaluate accuracy\n",
        "accuracy = accuracy_score(y_test, y_pred)\n",
        "print(f\"Accuracy of Bagging Classifier with SVM: {accuracy}\")"
      ],
      "metadata": {
        "colab": {
          "base_uri": "https://localhost:8080/"
        },
        "id": "T1GDcnT2Irfa",
        "outputId": "ab528eda-2b16-4880-e316-a88c54b896a2"
      },
      "execution_count": 10,
      "outputs": [
        {
          "output_type": "stream",
          "name": "stdout",
          "text": [
            "Accuracy of Bagging Classifier with SVM: 0.93\n"
          ]
        }
      ]
    },
    {
      "cell_type": "markdown",
      "source": [
        "#### 27) Train a Random Forest Classifier with different numbers of trees and compare accuracy."
      ],
      "metadata": {
        "id": "Pued4G8SI6aG"
      }
    },
    {
      "cell_type": "code",
      "source": [
        "# Load the breast cancer dataset\n",
        "data = load_breast_cancer()\n",
        "X, y = data.data, data.target\n",
        "\n",
        "# Split data into training and testing sets\n",
        "X_train, X_test, y_train, y_test = train_test_split(X, y, test_size=0.3, random_state=42)\n",
        "\n",
        "# Number of trees to try\n",
        "n_estimators_list = [50, 100, 150, 200]\n",
        "\n",
        "for n_estimators in n_estimators_list:\n",
        "    # Initialize and train a Random Forest Classifier\n",
        "    rf_classifier = RandomForestClassifier(n_estimators=n_estimators, random_state=42)\n",
        "    rf_classifier.fit(X_train, y_train)\n",
        "\n",
        "    # Make predictions\n",
        "    y_pred = rf_classifier.predict(X_test)\n",
        "\n",
        "    # Evaluate accuracy\n",
        "    accuracy = accuracy_score(y_test, y_pred)\n",
        "    print(f\"Accuracy with {n_estimators} trees: {accuracy}\")"
      ],
      "metadata": {
        "colab": {
          "base_uri": "https://localhost:8080/"
        },
        "id": "ih2QLqwKJGEg",
        "outputId": "9dedb385-05a2-47b6-868d-0152cb7a590a"
      },
      "execution_count": 11,
      "outputs": [
        {
          "output_type": "stream",
          "name": "stdout",
          "text": [
            "Accuracy with 50 trees: 0.9707602339181286\n",
            "Accuracy with 100 trees: 0.9707602339181286\n",
            "Accuracy with 150 trees: 0.9707602339181286\n",
            "Accuracy with 200 trees: 0.9707602339181286\n"
          ]
        }
      ]
    },
    {
      "cell_type": "markdown",
      "source": [
        "#### 28)  Train a Bagging Classifier using Logistic Regression as a base estimator and print AUC score."
      ],
      "metadata": {
        "id": "WlFlO1ADJMdH"
      }
    },
    {
      "cell_type": "code",
      "source": [
        "from sklearn.ensemble import BaggingClassifier\n",
        "from sklearn.linear_model import LogisticRegression\n",
        "from sklearn.model_selection import train_test_split\n",
        "from sklearn.datasets import make_classification\n",
        "from sklearn.metrics import roc_auc_score\n",
        "\n",
        "# Generate a sample dataset\n",
        "X, y = make_classification(n_samples=1000, n_features=20, n_informative=15, n_redundant=5, random_state=42)\n",
        "\n",
        "# Split data into training and testing sets\n",
        "X_train, X_test, y_train, y_test = train_test_split(X, y, test_size=0.2, random_state=42)\n",
        "\n",
        "# Initialize Bagging Classifier with Logistic Regression as the base estimator\n",
        "bagging_lr = BaggingClassifier(estimator=LogisticRegression(), n_estimators=10, random_state=42)\n",
        "\n",
        "# Train the model\n",
        "bagging_lr.fit(X_train, y_train)\n",
        "\n",
        "# Make predictions\n",
        "y_pred_prob = bagging_lr.predict_proba(X_test)[:, 1]\n",
        "\n",
        "# Evaluate AUC score\n",
        "auc = roc_auc_score(y_test, y_pred_prob)\n",
        "print(f\"AUC score of Bagging Classifier with Logistic Regression: {auc}\")"
      ],
      "metadata": {
        "colab": {
          "base_uri": "https://localhost:8080/"
        },
        "id": "cZVQNWxKJVSe",
        "outputId": "2508f6d5-5bc3-4fdb-fc64-28fdce7bc5cc"
      },
      "execution_count": 12,
      "outputs": [
        {
          "output_type": "stream",
          "name": "stdout",
          "text": [
            "AUC score of Bagging Classifier with Logistic Regression: 0.9111802488960257\n"
          ]
        }
      ]
    },
    {
      "cell_type": "markdown",
      "source": [
        "#### 29) Train a Random Forest Regressor and analyze feature importance scores."
      ],
      "metadata": {
        "id": "tbWeAHxcJYHx"
      }
    },
    {
      "cell_type": "code",
      "source": [
        "import pandas as pd\n",
        "import numpy as np\n",
        "from sklearn.model_selection import train_test_split\n",
        "from sklearn.ensemble import RandomForestRegressor\n",
        "from sklearn.metrics import mean_squared_error\n",
        "\n",
        "# Generate a sample dataset (replace with your actual data)\n",
        "np.random.seed(42)\n",
        "n_samples = 100\n",
        "n_features = 5\n",
        "X = np.random.rand(n_samples, n_features)\n",
        "y = 2*X[:, 0] + 3*X[:, 1] - X[:, 2] + np.random.randn(n_samples)\n",
        "\n",
        "# Split the data into training and testing sets\n",
        "X_train, X_test, y_train, y_test = train_test_split(X, y, test_size=0.2, random_state=42)\n",
        "\n",
        "\n",
        "# Initialize and train a Random Forest Regressor\n",
        "rf_regressor = RandomForestRegressor(n_estimators=100, random_state=42)\n",
        "rf_regressor.fit(X_train, y_train)\n",
        "\n",
        "# Make predictions\n",
        "y_pred = rf_regressor.predict(X_test)\n",
        "\n",
        "# Evaluate the model\n",
        "mse = mean_squared_error(y_test, y_pred)\n",
        "print(f\"Mean Squared Error: {mse}\")\n",
        "\n",
        "# Analyze feature importance scores\n",
        "feature_importances = rf_regressor.feature_importances_\n",
        "\n",
        "# Create a DataFrame for better visualization\n",
        "feature_importance_df = pd.DataFrame({'Feature': range(n_features), 'Importance': feature_importances})\n",
        "feature_importance_df = feature_importance_df.sort_values(by='Importance', ascending=False)\n",
        "print(\"\\nFeature Importance Scores:\")\n",
        "feature_importance_df"
      ],
      "metadata": {
        "colab": {
          "base_uri": "https://localhost:8080/",
          "height": 258
        },
        "id": "Qv4B4qTIJg8Z",
        "outputId": "8fc9c2a4-3278-4e59-a747-a651141525ee"
      },
      "execution_count": 13,
      "outputs": [
        {
          "output_type": "stream",
          "name": "stdout",
          "text": [
            "Mean Squared Error: 1.1375678685231079\n",
            "\n",
            "Feature Importance Scores:\n"
          ]
        },
        {
          "output_type": "execute_result",
          "data": {
            "text/plain": [
              "   Feature  Importance\n",
              "1        1    0.413051\n",
              "0        0    0.259971\n",
              "2        2    0.115366\n",
              "4        4    0.107551\n",
              "3        3    0.104061"
            ],
            "text/html": [
              "\n",
              "  <div id=\"df-8eb9d717-1ab9-40f6-a0b1-effc78c7b16a\" class=\"colab-df-container\">\n",
              "    <div>\n",
              "<style scoped>\n",
              "    .dataframe tbody tr th:only-of-type {\n",
              "        vertical-align: middle;\n",
              "    }\n",
              "\n",
              "    .dataframe tbody tr th {\n",
              "        vertical-align: top;\n",
              "    }\n",
              "\n",
              "    .dataframe thead th {\n",
              "        text-align: right;\n",
              "    }\n",
              "</style>\n",
              "<table border=\"1\" class=\"dataframe\">\n",
              "  <thead>\n",
              "    <tr style=\"text-align: right;\">\n",
              "      <th></th>\n",
              "      <th>Feature</th>\n",
              "      <th>Importance</th>\n",
              "    </tr>\n",
              "  </thead>\n",
              "  <tbody>\n",
              "    <tr>\n",
              "      <th>1</th>\n",
              "      <td>1</td>\n",
              "      <td>0.413051</td>\n",
              "    </tr>\n",
              "    <tr>\n",
              "      <th>0</th>\n",
              "      <td>0</td>\n",
              "      <td>0.259971</td>\n",
              "    </tr>\n",
              "    <tr>\n",
              "      <th>2</th>\n",
              "      <td>2</td>\n",
              "      <td>0.115366</td>\n",
              "    </tr>\n",
              "    <tr>\n",
              "      <th>4</th>\n",
              "      <td>4</td>\n",
              "      <td>0.107551</td>\n",
              "    </tr>\n",
              "    <tr>\n",
              "      <th>3</th>\n",
              "      <td>3</td>\n",
              "      <td>0.104061</td>\n",
              "    </tr>\n",
              "  </tbody>\n",
              "</table>\n",
              "</div>\n",
              "    <div class=\"colab-df-buttons\">\n",
              "\n",
              "  <div class=\"colab-df-container\">\n",
              "    <button class=\"colab-df-convert\" onclick=\"convertToInteractive('df-8eb9d717-1ab9-40f6-a0b1-effc78c7b16a')\"\n",
              "            title=\"Convert this dataframe to an interactive table.\"\n",
              "            style=\"display:none;\">\n",
              "\n",
              "  <svg xmlns=\"http://www.w3.org/2000/svg\" height=\"24px\" viewBox=\"0 -960 960 960\">\n",
              "    <path d=\"M120-120v-720h720v720H120Zm60-500h600v-160H180v160Zm220 220h160v-160H400v160Zm0 220h160v-160H400v160ZM180-400h160v-160H180v160Zm440 0h160v-160H620v160ZM180-180h160v-160H180v160Zm440 0h160v-160H620v160Z\"/>\n",
              "  </svg>\n",
              "    </button>\n",
              "\n",
              "  <style>\n",
              "    .colab-df-container {\n",
              "      display:flex;\n",
              "      gap: 12px;\n",
              "    }\n",
              "\n",
              "    .colab-df-convert {\n",
              "      background-color: #E8F0FE;\n",
              "      border: none;\n",
              "      border-radius: 50%;\n",
              "      cursor: pointer;\n",
              "      display: none;\n",
              "      fill: #1967D2;\n",
              "      height: 32px;\n",
              "      padding: 0 0 0 0;\n",
              "      width: 32px;\n",
              "    }\n",
              "\n",
              "    .colab-df-convert:hover {\n",
              "      background-color: #E2EBFA;\n",
              "      box-shadow: 0px 1px 2px rgba(60, 64, 67, 0.3), 0px 1px 3px 1px rgba(60, 64, 67, 0.15);\n",
              "      fill: #174EA6;\n",
              "    }\n",
              "\n",
              "    .colab-df-buttons div {\n",
              "      margin-bottom: 4px;\n",
              "    }\n",
              "\n",
              "    [theme=dark] .colab-df-convert {\n",
              "      background-color: #3B4455;\n",
              "      fill: #D2E3FC;\n",
              "    }\n",
              "\n",
              "    [theme=dark] .colab-df-convert:hover {\n",
              "      background-color: #434B5C;\n",
              "      box-shadow: 0px 1px 3px 1px rgba(0, 0, 0, 0.15);\n",
              "      filter: drop-shadow(0px 1px 2px rgba(0, 0, 0, 0.3));\n",
              "      fill: #FFFFFF;\n",
              "    }\n",
              "  </style>\n",
              "\n",
              "    <script>\n",
              "      const buttonEl =\n",
              "        document.querySelector('#df-8eb9d717-1ab9-40f6-a0b1-effc78c7b16a button.colab-df-convert');\n",
              "      buttonEl.style.display =\n",
              "        google.colab.kernel.accessAllowed ? 'block' : 'none';\n",
              "\n",
              "      async function convertToInteractive(key) {\n",
              "        const element = document.querySelector('#df-8eb9d717-1ab9-40f6-a0b1-effc78c7b16a');\n",
              "        const dataTable =\n",
              "          await google.colab.kernel.invokeFunction('convertToInteractive',\n",
              "                                                    [key], {});\n",
              "        if (!dataTable) return;\n",
              "\n",
              "        const docLinkHtml = 'Like what you see? Visit the ' +\n",
              "          '<a target=\"_blank\" href=https://colab.research.google.com/notebooks/data_table.ipynb>data table notebook</a>'\n",
              "          + ' to learn more about interactive tables.';\n",
              "        element.innerHTML = '';\n",
              "        dataTable['output_type'] = 'display_data';\n",
              "        await google.colab.output.renderOutput(dataTable, element);\n",
              "        const docLink = document.createElement('div');\n",
              "        docLink.innerHTML = docLinkHtml;\n",
              "        element.appendChild(docLink);\n",
              "      }\n",
              "    </script>\n",
              "  </div>\n",
              "\n",
              "\n",
              "<div id=\"df-08c2639c-ed8b-4a6c-9cd9-cafbde116d22\">\n",
              "  <button class=\"colab-df-quickchart\" onclick=\"quickchart('df-08c2639c-ed8b-4a6c-9cd9-cafbde116d22')\"\n",
              "            title=\"Suggest charts\"\n",
              "            style=\"display:none;\">\n",
              "\n",
              "<svg xmlns=\"http://www.w3.org/2000/svg\" height=\"24px\"viewBox=\"0 0 24 24\"\n",
              "     width=\"24px\">\n",
              "    <g>\n",
              "        <path d=\"M19 3H5c-1.1 0-2 .9-2 2v14c0 1.1.9 2 2 2h14c1.1 0 2-.9 2-2V5c0-1.1-.9-2-2-2zM9 17H7v-7h2v7zm4 0h-2V7h2v10zm4 0h-2v-4h2v4z\"/>\n",
              "    </g>\n",
              "</svg>\n",
              "  </button>\n",
              "\n",
              "<style>\n",
              "  .colab-df-quickchart {\n",
              "      --bg-color: #E8F0FE;\n",
              "      --fill-color: #1967D2;\n",
              "      --hover-bg-color: #E2EBFA;\n",
              "      --hover-fill-color: #174EA6;\n",
              "      --disabled-fill-color: #AAA;\n",
              "      --disabled-bg-color: #DDD;\n",
              "  }\n",
              "\n",
              "  [theme=dark] .colab-df-quickchart {\n",
              "      --bg-color: #3B4455;\n",
              "      --fill-color: #D2E3FC;\n",
              "      --hover-bg-color: #434B5C;\n",
              "      --hover-fill-color: #FFFFFF;\n",
              "      --disabled-bg-color: #3B4455;\n",
              "      --disabled-fill-color: #666;\n",
              "  }\n",
              "\n",
              "  .colab-df-quickchart {\n",
              "    background-color: var(--bg-color);\n",
              "    border: none;\n",
              "    border-radius: 50%;\n",
              "    cursor: pointer;\n",
              "    display: none;\n",
              "    fill: var(--fill-color);\n",
              "    height: 32px;\n",
              "    padding: 0;\n",
              "    width: 32px;\n",
              "  }\n",
              "\n",
              "  .colab-df-quickchart:hover {\n",
              "    background-color: var(--hover-bg-color);\n",
              "    box-shadow: 0 1px 2px rgba(60, 64, 67, 0.3), 0 1px 3px 1px rgba(60, 64, 67, 0.15);\n",
              "    fill: var(--button-hover-fill-color);\n",
              "  }\n",
              "\n",
              "  .colab-df-quickchart-complete:disabled,\n",
              "  .colab-df-quickchart-complete:disabled:hover {\n",
              "    background-color: var(--disabled-bg-color);\n",
              "    fill: var(--disabled-fill-color);\n",
              "    box-shadow: none;\n",
              "  }\n",
              "\n",
              "  .colab-df-spinner {\n",
              "    border: 2px solid var(--fill-color);\n",
              "    border-color: transparent;\n",
              "    border-bottom-color: var(--fill-color);\n",
              "    animation:\n",
              "      spin 1s steps(1) infinite;\n",
              "  }\n",
              "\n",
              "  @keyframes spin {\n",
              "    0% {\n",
              "      border-color: transparent;\n",
              "      border-bottom-color: var(--fill-color);\n",
              "      border-left-color: var(--fill-color);\n",
              "    }\n",
              "    20% {\n",
              "      border-color: transparent;\n",
              "      border-left-color: var(--fill-color);\n",
              "      border-top-color: var(--fill-color);\n",
              "    }\n",
              "    30% {\n",
              "      border-color: transparent;\n",
              "      border-left-color: var(--fill-color);\n",
              "      border-top-color: var(--fill-color);\n",
              "      border-right-color: var(--fill-color);\n",
              "    }\n",
              "    40% {\n",
              "      border-color: transparent;\n",
              "      border-right-color: var(--fill-color);\n",
              "      border-top-color: var(--fill-color);\n",
              "    }\n",
              "    60% {\n",
              "      border-color: transparent;\n",
              "      border-right-color: var(--fill-color);\n",
              "    }\n",
              "    80% {\n",
              "      border-color: transparent;\n",
              "      border-right-color: var(--fill-color);\n",
              "      border-bottom-color: var(--fill-color);\n",
              "    }\n",
              "    90% {\n",
              "      border-color: transparent;\n",
              "      border-bottom-color: var(--fill-color);\n",
              "    }\n",
              "  }\n",
              "</style>\n",
              "\n",
              "  <script>\n",
              "    async function quickchart(key) {\n",
              "      const quickchartButtonEl =\n",
              "        document.querySelector('#' + key + ' button');\n",
              "      quickchartButtonEl.disabled = true;  // To prevent multiple clicks.\n",
              "      quickchartButtonEl.classList.add('colab-df-spinner');\n",
              "      try {\n",
              "        const charts = await google.colab.kernel.invokeFunction(\n",
              "            'suggestCharts', [key], {});\n",
              "      } catch (error) {\n",
              "        console.error('Error during call to suggestCharts:', error);\n",
              "      }\n",
              "      quickchartButtonEl.classList.remove('colab-df-spinner');\n",
              "      quickchartButtonEl.classList.add('colab-df-quickchart-complete');\n",
              "    }\n",
              "    (() => {\n",
              "      let quickchartButtonEl =\n",
              "        document.querySelector('#df-08c2639c-ed8b-4a6c-9cd9-cafbde116d22 button');\n",
              "      quickchartButtonEl.style.display =\n",
              "        google.colab.kernel.accessAllowed ? 'block' : 'none';\n",
              "    })();\n",
              "  </script>\n",
              "</div>\n",
              "\n",
              "  <div id=\"id_8dc8e2d3-7309-410d-90c3-a16f8d9ee54f\">\n",
              "    <style>\n",
              "      .colab-df-generate {\n",
              "        background-color: #E8F0FE;\n",
              "        border: none;\n",
              "        border-radius: 50%;\n",
              "        cursor: pointer;\n",
              "        display: none;\n",
              "        fill: #1967D2;\n",
              "        height: 32px;\n",
              "        padding: 0 0 0 0;\n",
              "        width: 32px;\n",
              "      }\n",
              "\n",
              "      .colab-df-generate:hover {\n",
              "        background-color: #E2EBFA;\n",
              "        box-shadow: 0px 1px 2px rgba(60, 64, 67, 0.3), 0px 1px 3px 1px rgba(60, 64, 67, 0.15);\n",
              "        fill: #174EA6;\n",
              "      }\n",
              "\n",
              "      [theme=dark] .colab-df-generate {\n",
              "        background-color: #3B4455;\n",
              "        fill: #D2E3FC;\n",
              "      }\n",
              "\n",
              "      [theme=dark] .colab-df-generate:hover {\n",
              "        background-color: #434B5C;\n",
              "        box-shadow: 0px 1px 3px 1px rgba(0, 0, 0, 0.15);\n",
              "        filter: drop-shadow(0px 1px 2px rgba(0, 0, 0, 0.3));\n",
              "        fill: #FFFFFF;\n",
              "      }\n",
              "    </style>\n",
              "    <button class=\"colab-df-generate\" onclick=\"generateWithVariable('feature_importance_df')\"\n",
              "            title=\"Generate code using this dataframe.\"\n",
              "            style=\"display:none;\">\n",
              "\n",
              "  <svg xmlns=\"http://www.w3.org/2000/svg\" height=\"24px\"viewBox=\"0 0 24 24\"\n",
              "       width=\"24px\">\n",
              "    <path d=\"M7,19H8.4L18.45,9,17,7.55,7,17.6ZM5,21V16.75L18.45,3.32a2,2,0,0,1,2.83,0l1.4,1.43a1.91,1.91,0,0,1,.58,1.4,1.91,1.91,0,0,1-.58,1.4L9.25,21ZM18.45,9,17,7.55Zm-12,3A5.31,5.31,0,0,0,4.9,8.1,5.31,5.31,0,0,0,1,6.5,5.31,5.31,0,0,0,4.9,4.9,5.31,5.31,0,0,0,6.5,1,5.31,5.31,0,0,0,8.1,4.9,5.31,5.31,0,0,0,12,6.5,5.46,5.46,0,0,0,6.5,12Z\"/>\n",
              "  </svg>\n",
              "    </button>\n",
              "    <script>\n",
              "      (() => {\n",
              "      const buttonEl =\n",
              "        document.querySelector('#id_8dc8e2d3-7309-410d-90c3-a16f8d9ee54f button.colab-df-generate');\n",
              "      buttonEl.style.display =\n",
              "        google.colab.kernel.accessAllowed ? 'block' : 'none';\n",
              "\n",
              "      buttonEl.onclick = () => {\n",
              "        google.colab.notebook.generateWithVariable('feature_importance_df');\n",
              "      }\n",
              "      })();\n",
              "    </script>\n",
              "  </div>\n",
              "\n",
              "    </div>\n",
              "  </div>\n"
            ],
            "application/vnd.google.colaboratory.intrinsic+json": {
              "type": "dataframe",
              "variable_name": "feature_importance_df",
              "summary": "{\n  \"name\": \"feature_importance_df\",\n  \"rows\": 5,\n  \"fields\": [\n    {\n      \"column\": \"Feature\",\n      \"properties\": {\n        \"dtype\": \"number\",\n        \"std\": 1,\n        \"min\": 0,\n        \"max\": 4,\n        \"num_unique_values\": 5,\n        \"samples\": [\n          0,\n          3,\n          2\n        ],\n        \"semantic_type\": \"\",\n        \"description\": \"\"\n      }\n    },\n    {\n      \"column\": \"Importance\",\n      \"properties\": {\n        \"dtype\": \"number\",\n        \"std\": 0.13592412901346823,\n        \"min\": 0.10406138734383058,\n        \"max\": 0.41305113700540685,\n        \"num_unique_values\": 5,\n        \"samples\": [\n          0.2599714235572306,\n          0.10406138734383058,\n          0.11536552320233742\n        ],\n        \"semantic_type\": \"\",\n        \"description\": \"\"\n      }\n    }\n  ]\n}"
            }
          },
          "metadata": {},
          "execution_count": 13
        }
      ]
    },
    {
      "cell_type": "markdown",
      "source": [
        "#### 30)  Train an ensemble model using both Bagging and Random Forest and compare accuracy."
      ],
      "metadata": {
        "id": "Xf7V6lmRJmf4"
      }
    },
    {
      "cell_type": "code",
      "source": [
        "from sklearn.ensemble import BaggingClassifier, RandomForestClassifier\n",
        "from sklearn.tree import DecisionTreeClassifier\n",
        "from sklearn.model_selection import train_test_split\n",
        "from sklearn.datasets import make_classification\n",
        "from sklearn.metrics import accuracy_score\n",
        "\n",
        "# Generate a sample dataset\n",
        "X, y = make_classification(n_samples=1000, n_features=20, n_informative=15, n_redundant=2, random_state=42)\n",
        "\n",
        "# Split the dataset into training and testing sets\n",
        "X_train, X_test, y_train, y_test = train_test_split(X, y, test_size=0.2, random_state=42)\n",
        "\n",
        "# Bagging Classifier\n",
        "bagging_clf = BaggingClassifier(estimator=DecisionTreeClassifier(), n_estimators=10, random_state=42)\n",
        "bagging_clf.fit(X_train, y_train)\n",
        "bagging_pred = bagging_clf.predict(X_test)\n",
        "bagging_accuracy = accuracy_score(y_test, bagging_pred)\n",
        "print(f\"Bagging Classifier Accuracy: {bagging_accuracy}\")\n",
        "\n",
        "# Random Forest Classifier\n",
        "rf_clf = RandomForestClassifier(n_estimators=10, random_state=42)\n",
        "rf_clf.fit(X_train, y_train)\n",
        "rf_pred = rf_clf.predict(X_test)\n",
        "rf_accuracy = accuracy_score(y_test, rf_pred)\n",
        "print(f\"Random Forest Classifier Accuracy: {rf_accuracy}\")\n",
        "\n",
        "# Compare Accuracy\n",
        "print(f\"Difference in accuracy: {rf_accuracy - bagging_accuracy}\")"
      ],
      "metadata": {
        "colab": {
          "base_uri": "https://localhost:8080/"
        },
        "id": "GgOJL4u0JybN",
        "outputId": "8da50111-f121-4e54-94cd-c7cec7db95fc"
      },
      "execution_count": 14,
      "outputs": [
        {
          "output_type": "stream",
          "name": "stdout",
          "text": [
            "Bagging Classifier Accuracy: 0.825\n",
            "Random Forest Classifier Accuracy: 0.875\n",
            "Difference in accuracy: 0.050000000000000044\n"
          ]
        }
      ]
    },
    {
      "cell_type": "markdown",
      "source": [
        "#### 31) Train a Random Forest Classifier and tune hyperparameters using GridSearchCV."
      ],
      "metadata": {
        "id": "HljH_0iMJ4_i"
      }
    },
    {
      "cell_type": "code",
      "source": [
        "from sklearn.ensemble import RandomForestClassifier\n",
        "from sklearn.model_selection import GridSearchCV, train_test_split\n",
        "from sklearn.datasets import load_breast_cancer\n",
        "from sklearn.metrics import accuracy_score\n",
        "\n",
        "# Load the breast cancer dataset\n",
        "data = load_breast_cancer()\n",
        "X, y = data.data, data.target\n",
        "\n",
        "# Split data into training and testing sets\n",
        "X_train, X_test, y_train, y_test = train_test_split(X, y, test_size=0.3, random_state=42)\n",
        "\n",
        "# Define the parameter grid for hyperparameter tuning\n",
        "param_grid = {\n",
        "    'n_estimators': [50, 100, 200],\n",
        "    'max_depth': [None, 10, 20],\n",
        "    'min_samples_split': [2, 5, 10],\n",
        "    'min_samples_leaf': [1, 2, 4]\n",
        "}\n",
        "\n",
        "# Initialize the Random Forest Classifier\n",
        "rf_classifier = RandomForestClassifier(random_state=42)\n",
        "\n",
        "# Initialize GridSearchCV\n",
        "grid_search = GridSearchCV(estimator=rf_classifier, param_grid=param_grid, cv=5, scoring='accuracy')\n",
        "\n",
        "# Fit GridSearchCV to the training data\n",
        "grid_search.fit(X_train, y_train)\n",
        "\n",
        "# Get the best hyperparameters and best estimator\n",
        "best_params = grid_search.best_params_\n",
        "best_rf_classifier = grid_search.best_estimator_\n",
        "\n",
        "print(f\"Best Hyperparameters: {best_params}\")\n",
        "\n",
        "# Evaluate the best model on the test set\n",
        "y_pred = best_rf_classifier.predict(X_test)\n",
        "accuracy = accuracy_score(y_test, y_pred)\n",
        "print(f\"Accuracy of the best model: {accuracy}\")"
      ],
      "metadata": {
        "colab": {
          "base_uri": "https://localhost:8080/"
        },
        "id": "7o--Et-ZKFQv",
        "outputId": "fbc54aa4-7d5c-4130-ee85-ff3223f2e923"
      },
      "execution_count": 15,
      "outputs": [
        {
          "output_type": "stream",
          "name": "stdout",
          "text": [
            "Best Hyperparameters: {'max_depth': None, 'min_samples_leaf': 2, 'min_samples_split': 2, 'n_estimators': 200}\n",
            "Accuracy of the best model: 0.9707602339181286\n"
          ]
        }
      ]
    },
    {
      "cell_type": "markdown",
      "source": [
        "#### 32) Train a Bagging Regressor with different numbers of base estimators and compare performance."
      ],
      "metadata": {
        "id": "WVdbi9W_KhXZ"
      }
    },
    {
      "cell_type": "code",
      "source": [
        "# Generate a sample regression dataset\n",
        "X, y = make_regression(n_samples=1000, n_features=10, n_informative=5, noise=0.5, random_state=42)\n",
        "\n",
        "# Split data into training and testing sets\n",
        "X_train, X_test, y_train, y_test = train_test_split(X, y, test_size=0.3, random_state=42)\n",
        "\n",
        "# Number of estimators to try\n",
        "n_estimators_list = [10, 50, 100, 200]\n",
        "\n",
        "for n_estimators in n_estimators_list:\n",
        "    # Initialize BaggingRegressor with DecisionTreeRegressor as the base estimator\n",
        "    bagging_regressor = BaggingRegressor(estimator=DecisionTreeRegressor(), n_estimators=n_estimators, random_state=42)\n",
        "\n",
        "    # Train the model\n",
        "    bagging_regressor.fit(X_train, y_train)\n",
        "\n",
        "    # Make predictions\n",
        "    y_pred = bagging_regressor.predict(X_test)\n",
        "\n",
        "    # Evaluate using Mean Squared Error\n",
        "    mse = mean_squared_error(y_test, y_pred)\n",
        "    print(f\"Mean Squared Error with {n_estimators} estimators: {mse}\")"
      ],
      "metadata": {
        "colab": {
          "base_uri": "https://localhost:8080/"
        },
        "id": "4GbEwkyGKu_d",
        "outputId": "9bb8cb0a-c1df-4adc-b983-f9cb2f94412e"
      },
      "execution_count": 16,
      "outputs": [
        {
          "output_type": "stream",
          "name": "stdout",
          "text": [
            "Mean Squared Error with 10 estimators: 235.6148516590017\n",
            "Mean Squared Error with 50 estimators: 211.61392997750383\n",
            "Mean Squared Error with 100 estimators: 211.9287143625142\n",
            "Mean Squared Error with 200 estimators: 203.3741786571217\n"
          ]
        }
      ]
    },
    {
      "cell_type": "markdown",
      "source": [
        "#### 33) Train a Random Forest Classifier and analyze misclassified samples."
      ],
      "metadata": {
        "id": "Oe9Ga6imK0ur"
      }
    },
    {
      "cell_type": "code",
      "source": [
        "from sklearn.ensemble import RandomForestClassifier\n",
        "from sklearn.datasets import load_breast_cancer\n",
        "from sklearn.model_selection import train_test_split\n",
        "import pandas as pd\n",
        "\n",
        "# Load the breast cancer dataset\n",
        "data = load_breast_cancer()\n",
        "X, y = data.data, data.target\n",
        "\n",
        "# Split data into training and testing sets\n",
        "X_train, X_test, y_train, y_test = train_test_split(X, y, test_size=0.3, random_state=42)\n",
        "\n",
        "# Initialize and train a Random Forest Classifier\n",
        "rf_classifier = RandomForestClassifier(n_estimators=100, random_state=42)\n",
        "rf_classifier.fit(X_train, y_train)\n",
        "\n",
        "# Make predictions on the test set\n",
        "y_pred = rf_classifier.predict(X_test)\n",
        "\n",
        "# Identify misclassified samples\n",
        "misclassified_indices = y_pred != y_test\n",
        "\n",
        "# Create a DataFrame of misclassified samples\n",
        "misclassified_samples = pd.DataFrame(X_test[misclassified_indices], columns=data.feature_names)\n",
        "misclassified_samples['True Label'] = y_test[misclassified_indices]\n",
        "misclassified_samples['Predicted Label'] = y_pred[misclassified_indices]\n",
        "\n",
        "print(\"Misclassified Samples:\")\n",
        "misclassified_samples"
      ],
      "metadata": {
        "colab": {
          "base_uri": "https://localhost:8080/",
          "height": 307
        },
        "id": "PVCyGUvrLByI",
        "outputId": "c47531fd-25cb-4b08-b3bc-4ecb57a20333"
      },
      "execution_count": 17,
      "outputs": [
        {
          "output_type": "stream",
          "name": "stdout",
          "text": [
            "Misclassified Samples:\n"
          ]
        },
        {
          "output_type": "execute_result",
          "data": {
            "text/plain": [
              "   mean radius  mean texture  mean perimeter  mean area  mean smoothness  \\\n",
              "0        13.34         15.86           86.49      520.0          0.10780   \n",
              "1        13.80         15.79           90.43      584.1          0.10070   \n",
              "2        13.96         17.05           91.43      602.4          0.10960   \n",
              "3        14.48         21.46           94.25      648.2          0.09444   \n",
              "4        15.13         29.81           96.71      719.5          0.08320   \n",
              "\n",
              "   mean compactness  mean concavity  mean concave points  mean symmetry  \\\n",
              "0           0.15350         0.11690              0.06987         0.1942   \n",
              "1           0.12800         0.07789              0.05069         0.1662   \n",
              "2           0.12790         0.09789              0.05246         0.1908   \n",
              "3           0.09947         0.12040              0.04938         0.2075   \n",
              "4           0.04605         0.04686              0.02739         0.1852   \n",
              "\n",
              "   mean fractal dimension  ...  worst perimeter  worst area  worst smoothness  \\\n",
              "0                 0.06902  ...            96.66       614.9            0.1536   \n",
              "1                 0.06566  ...           110.30       812.4            0.1411   \n",
              "2                 0.06130  ...           108.10       826.0            0.1512   \n",
              "3                 0.05636  ...           108.40       808.9            0.1306   \n",
              "4                 0.05294  ...           110.10       931.4            0.1148   \n",
              "\n",
              "   worst compactness  worst concavity  worst concave points  worst symmetry  \\\n",
              "0            0.47910           0.4858               0.17080          0.3527   \n",
              "1            0.35420           0.2779               0.13830          0.2589   \n",
              "2            0.32620           0.3209               0.13740          0.3068   \n",
              "3            0.19760           0.3349               0.12250          0.3020   \n",
              "4            0.09866           0.1547               0.06575          0.3233   \n",
              "\n",
              "   worst fractal dimension  True Label  Predicted Label  \n",
              "0                  0.10160           1                0  \n",
              "1                  0.10300           0                1  \n",
              "2                  0.07957           0                1  \n",
              "3                  0.06846           0                1  \n",
              "4                  0.06165           0                1  \n",
              "\n",
              "[5 rows x 32 columns]"
            ],
            "text/html": [
              "\n",
              "  <div id=\"df-f72cbf0d-ee77-4178-a15e-4b250000c9c2\" class=\"colab-df-container\">\n",
              "    <div>\n",
              "<style scoped>\n",
              "    .dataframe tbody tr th:only-of-type {\n",
              "        vertical-align: middle;\n",
              "    }\n",
              "\n",
              "    .dataframe tbody tr th {\n",
              "        vertical-align: top;\n",
              "    }\n",
              "\n",
              "    .dataframe thead th {\n",
              "        text-align: right;\n",
              "    }\n",
              "</style>\n",
              "<table border=\"1\" class=\"dataframe\">\n",
              "  <thead>\n",
              "    <tr style=\"text-align: right;\">\n",
              "      <th></th>\n",
              "      <th>mean radius</th>\n",
              "      <th>mean texture</th>\n",
              "      <th>mean perimeter</th>\n",
              "      <th>mean area</th>\n",
              "      <th>mean smoothness</th>\n",
              "      <th>mean compactness</th>\n",
              "      <th>mean concavity</th>\n",
              "      <th>mean concave points</th>\n",
              "      <th>mean symmetry</th>\n",
              "      <th>mean fractal dimension</th>\n",
              "      <th>...</th>\n",
              "      <th>worst perimeter</th>\n",
              "      <th>worst area</th>\n",
              "      <th>worst smoothness</th>\n",
              "      <th>worst compactness</th>\n",
              "      <th>worst concavity</th>\n",
              "      <th>worst concave points</th>\n",
              "      <th>worst symmetry</th>\n",
              "      <th>worst fractal dimension</th>\n",
              "      <th>True Label</th>\n",
              "      <th>Predicted Label</th>\n",
              "    </tr>\n",
              "  </thead>\n",
              "  <tbody>\n",
              "    <tr>\n",
              "      <th>0</th>\n",
              "      <td>13.34</td>\n",
              "      <td>15.86</td>\n",
              "      <td>86.49</td>\n",
              "      <td>520.0</td>\n",
              "      <td>0.10780</td>\n",
              "      <td>0.15350</td>\n",
              "      <td>0.11690</td>\n",
              "      <td>0.06987</td>\n",
              "      <td>0.1942</td>\n",
              "      <td>0.06902</td>\n",
              "      <td>...</td>\n",
              "      <td>96.66</td>\n",
              "      <td>614.9</td>\n",
              "      <td>0.1536</td>\n",
              "      <td>0.47910</td>\n",
              "      <td>0.4858</td>\n",
              "      <td>0.17080</td>\n",
              "      <td>0.3527</td>\n",
              "      <td>0.10160</td>\n",
              "      <td>1</td>\n",
              "      <td>0</td>\n",
              "    </tr>\n",
              "    <tr>\n",
              "      <th>1</th>\n",
              "      <td>13.80</td>\n",
              "      <td>15.79</td>\n",
              "      <td>90.43</td>\n",
              "      <td>584.1</td>\n",
              "      <td>0.10070</td>\n",
              "      <td>0.12800</td>\n",
              "      <td>0.07789</td>\n",
              "      <td>0.05069</td>\n",
              "      <td>0.1662</td>\n",
              "      <td>0.06566</td>\n",
              "      <td>...</td>\n",
              "      <td>110.30</td>\n",
              "      <td>812.4</td>\n",
              "      <td>0.1411</td>\n",
              "      <td>0.35420</td>\n",
              "      <td>0.2779</td>\n",
              "      <td>0.13830</td>\n",
              "      <td>0.2589</td>\n",
              "      <td>0.10300</td>\n",
              "      <td>0</td>\n",
              "      <td>1</td>\n",
              "    </tr>\n",
              "    <tr>\n",
              "      <th>2</th>\n",
              "      <td>13.96</td>\n",
              "      <td>17.05</td>\n",
              "      <td>91.43</td>\n",
              "      <td>602.4</td>\n",
              "      <td>0.10960</td>\n",
              "      <td>0.12790</td>\n",
              "      <td>0.09789</td>\n",
              "      <td>0.05246</td>\n",
              "      <td>0.1908</td>\n",
              "      <td>0.06130</td>\n",
              "      <td>...</td>\n",
              "      <td>108.10</td>\n",
              "      <td>826.0</td>\n",
              "      <td>0.1512</td>\n",
              "      <td>0.32620</td>\n",
              "      <td>0.3209</td>\n",
              "      <td>0.13740</td>\n",
              "      <td>0.3068</td>\n",
              "      <td>0.07957</td>\n",
              "      <td>0</td>\n",
              "      <td>1</td>\n",
              "    </tr>\n",
              "    <tr>\n",
              "      <th>3</th>\n",
              "      <td>14.48</td>\n",
              "      <td>21.46</td>\n",
              "      <td>94.25</td>\n",
              "      <td>648.2</td>\n",
              "      <td>0.09444</td>\n",
              "      <td>0.09947</td>\n",
              "      <td>0.12040</td>\n",
              "      <td>0.04938</td>\n",
              "      <td>0.2075</td>\n",
              "      <td>0.05636</td>\n",
              "      <td>...</td>\n",
              "      <td>108.40</td>\n",
              "      <td>808.9</td>\n",
              "      <td>0.1306</td>\n",
              "      <td>0.19760</td>\n",
              "      <td>0.3349</td>\n",
              "      <td>0.12250</td>\n",
              "      <td>0.3020</td>\n",
              "      <td>0.06846</td>\n",
              "      <td>0</td>\n",
              "      <td>1</td>\n",
              "    </tr>\n",
              "    <tr>\n",
              "      <th>4</th>\n",
              "      <td>15.13</td>\n",
              "      <td>29.81</td>\n",
              "      <td>96.71</td>\n",
              "      <td>719.5</td>\n",
              "      <td>0.08320</td>\n",
              "      <td>0.04605</td>\n",
              "      <td>0.04686</td>\n",
              "      <td>0.02739</td>\n",
              "      <td>0.1852</td>\n",
              "      <td>0.05294</td>\n",
              "      <td>...</td>\n",
              "      <td>110.10</td>\n",
              "      <td>931.4</td>\n",
              "      <td>0.1148</td>\n",
              "      <td>0.09866</td>\n",
              "      <td>0.1547</td>\n",
              "      <td>0.06575</td>\n",
              "      <td>0.3233</td>\n",
              "      <td>0.06165</td>\n",
              "      <td>0</td>\n",
              "      <td>1</td>\n",
              "    </tr>\n",
              "  </tbody>\n",
              "</table>\n",
              "<p>5 rows × 32 columns</p>\n",
              "</div>\n",
              "    <div class=\"colab-df-buttons\">\n",
              "\n",
              "  <div class=\"colab-df-container\">\n",
              "    <button class=\"colab-df-convert\" onclick=\"convertToInteractive('df-f72cbf0d-ee77-4178-a15e-4b250000c9c2')\"\n",
              "            title=\"Convert this dataframe to an interactive table.\"\n",
              "            style=\"display:none;\">\n",
              "\n",
              "  <svg xmlns=\"http://www.w3.org/2000/svg\" height=\"24px\" viewBox=\"0 -960 960 960\">\n",
              "    <path d=\"M120-120v-720h720v720H120Zm60-500h600v-160H180v160Zm220 220h160v-160H400v160Zm0 220h160v-160H400v160ZM180-400h160v-160H180v160Zm440 0h160v-160H620v160ZM180-180h160v-160H180v160Zm440 0h160v-160H620v160Z\"/>\n",
              "  </svg>\n",
              "    </button>\n",
              "\n",
              "  <style>\n",
              "    .colab-df-container {\n",
              "      display:flex;\n",
              "      gap: 12px;\n",
              "    }\n",
              "\n",
              "    .colab-df-convert {\n",
              "      background-color: #E8F0FE;\n",
              "      border: none;\n",
              "      border-radius: 50%;\n",
              "      cursor: pointer;\n",
              "      display: none;\n",
              "      fill: #1967D2;\n",
              "      height: 32px;\n",
              "      padding: 0 0 0 0;\n",
              "      width: 32px;\n",
              "    }\n",
              "\n",
              "    .colab-df-convert:hover {\n",
              "      background-color: #E2EBFA;\n",
              "      box-shadow: 0px 1px 2px rgba(60, 64, 67, 0.3), 0px 1px 3px 1px rgba(60, 64, 67, 0.15);\n",
              "      fill: #174EA6;\n",
              "    }\n",
              "\n",
              "    .colab-df-buttons div {\n",
              "      margin-bottom: 4px;\n",
              "    }\n",
              "\n",
              "    [theme=dark] .colab-df-convert {\n",
              "      background-color: #3B4455;\n",
              "      fill: #D2E3FC;\n",
              "    }\n",
              "\n",
              "    [theme=dark] .colab-df-convert:hover {\n",
              "      background-color: #434B5C;\n",
              "      box-shadow: 0px 1px 3px 1px rgba(0, 0, 0, 0.15);\n",
              "      filter: drop-shadow(0px 1px 2px rgba(0, 0, 0, 0.3));\n",
              "      fill: #FFFFFF;\n",
              "    }\n",
              "  </style>\n",
              "\n",
              "    <script>\n",
              "      const buttonEl =\n",
              "        document.querySelector('#df-f72cbf0d-ee77-4178-a15e-4b250000c9c2 button.colab-df-convert');\n",
              "      buttonEl.style.display =\n",
              "        google.colab.kernel.accessAllowed ? 'block' : 'none';\n",
              "\n",
              "      async function convertToInteractive(key) {\n",
              "        const element = document.querySelector('#df-f72cbf0d-ee77-4178-a15e-4b250000c9c2');\n",
              "        const dataTable =\n",
              "          await google.colab.kernel.invokeFunction('convertToInteractive',\n",
              "                                                    [key], {});\n",
              "        if (!dataTable) return;\n",
              "\n",
              "        const docLinkHtml = 'Like what you see? Visit the ' +\n",
              "          '<a target=\"_blank\" href=https://colab.research.google.com/notebooks/data_table.ipynb>data table notebook</a>'\n",
              "          + ' to learn more about interactive tables.';\n",
              "        element.innerHTML = '';\n",
              "        dataTable['output_type'] = 'display_data';\n",
              "        await google.colab.output.renderOutput(dataTable, element);\n",
              "        const docLink = document.createElement('div');\n",
              "        docLink.innerHTML = docLinkHtml;\n",
              "        element.appendChild(docLink);\n",
              "      }\n",
              "    </script>\n",
              "  </div>\n",
              "\n",
              "\n",
              "<div id=\"df-89f9b39d-8b3b-4f0e-b0af-9ffed525e71c\">\n",
              "  <button class=\"colab-df-quickchart\" onclick=\"quickchart('df-89f9b39d-8b3b-4f0e-b0af-9ffed525e71c')\"\n",
              "            title=\"Suggest charts\"\n",
              "            style=\"display:none;\">\n",
              "\n",
              "<svg xmlns=\"http://www.w3.org/2000/svg\" height=\"24px\"viewBox=\"0 0 24 24\"\n",
              "     width=\"24px\">\n",
              "    <g>\n",
              "        <path d=\"M19 3H5c-1.1 0-2 .9-2 2v14c0 1.1.9 2 2 2h14c1.1 0 2-.9 2-2V5c0-1.1-.9-2-2-2zM9 17H7v-7h2v7zm4 0h-2V7h2v10zm4 0h-2v-4h2v4z\"/>\n",
              "    </g>\n",
              "</svg>\n",
              "  </button>\n",
              "\n",
              "<style>\n",
              "  .colab-df-quickchart {\n",
              "      --bg-color: #E8F0FE;\n",
              "      --fill-color: #1967D2;\n",
              "      --hover-bg-color: #E2EBFA;\n",
              "      --hover-fill-color: #174EA6;\n",
              "      --disabled-fill-color: #AAA;\n",
              "      --disabled-bg-color: #DDD;\n",
              "  }\n",
              "\n",
              "  [theme=dark] .colab-df-quickchart {\n",
              "      --bg-color: #3B4455;\n",
              "      --fill-color: #D2E3FC;\n",
              "      --hover-bg-color: #434B5C;\n",
              "      --hover-fill-color: #FFFFFF;\n",
              "      --disabled-bg-color: #3B4455;\n",
              "      --disabled-fill-color: #666;\n",
              "  }\n",
              "\n",
              "  .colab-df-quickchart {\n",
              "    background-color: var(--bg-color);\n",
              "    border: none;\n",
              "    border-radius: 50%;\n",
              "    cursor: pointer;\n",
              "    display: none;\n",
              "    fill: var(--fill-color);\n",
              "    height: 32px;\n",
              "    padding: 0;\n",
              "    width: 32px;\n",
              "  }\n",
              "\n",
              "  .colab-df-quickchart:hover {\n",
              "    background-color: var(--hover-bg-color);\n",
              "    box-shadow: 0 1px 2px rgba(60, 64, 67, 0.3), 0 1px 3px 1px rgba(60, 64, 67, 0.15);\n",
              "    fill: var(--button-hover-fill-color);\n",
              "  }\n",
              "\n",
              "  .colab-df-quickchart-complete:disabled,\n",
              "  .colab-df-quickchart-complete:disabled:hover {\n",
              "    background-color: var(--disabled-bg-color);\n",
              "    fill: var(--disabled-fill-color);\n",
              "    box-shadow: none;\n",
              "  }\n",
              "\n",
              "  .colab-df-spinner {\n",
              "    border: 2px solid var(--fill-color);\n",
              "    border-color: transparent;\n",
              "    border-bottom-color: var(--fill-color);\n",
              "    animation:\n",
              "      spin 1s steps(1) infinite;\n",
              "  }\n",
              "\n",
              "  @keyframes spin {\n",
              "    0% {\n",
              "      border-color: transparent;\n",
              "      border-bottom-color: var(--fill-color);\n",
              "      border-left-color: var(--fill-color);\n",
              "    }\n",
              "    20% {\n",
              "      border-color: transparent;\n",
              "      border-left-color: var(--fill-color);\n",
              "      border-top-color: var(--fill-color);\n",
              "    }\n",
              "    30% {\n",
              "      border-color: transparent;\n",
              "      border-left-color: var(--fill-color);\n",
              "      border-top-color: var(--fill-color);\n",
              "      border-right-color: var(--fill-color);\n",
              "    }\n",
              "    40% {\n",
              "      border-color: transparent;\n",
              "      border-right-color: var(--fill-color);\n",
              "      border-top-color: var(--fill-color);\n",
              "    }\n",
              "    60% {\n",
              "      border-color: transparent;\n",
              "      border-right-color: var(--fill-color);\n",
              "    }\n",
              "    80% {\n",
              "      border-color: transparent;\n",
              "      border-right-color: var(--fill-color);\n",
              "      border-bottom-color: var(--fill-color);\n",
              "    }\n",
              "    90% {\n",
              "      border-color: transparent;\n",
              "      border-bottom-color: var(--fill-color);\n",
              "    }\n",
              "  }\n",
              "</style>\n",
              "\n",
              "  <script>\n",
              "    async function quickchart(key) {\n",
              "      const quickchartButtonEl =\n",
              "        document.querySelector('#' + key + ' button');\n",
              "      quickchartButtonEl.disabled = true;  // To prevent multiple clicks.\n",
              "      quickchartButtonEl.classList.add('colab-df-spinner');\n",
              "      try {\n",
              "        const charts = await google.colab.kernel.invokeFunction(\n",
              "            'suggestCharts', [key], {});\n",
              "      } catch (error) {\n",
              "        console.error('Error during call to suggestCharts:', error);\n",
              "      }\n",
              "      quickchartButtonEl.classList.remove('colab-df-spinner');\n",
              "      quickchartButtonEl.classList.add('colab-df-quickchart-complete');\n",
              "    }\n",
              "    (() => {\n",
              "      let quickchartButtonEl =\n",
              "        document.querySelector('#df-89f9b39d-8b3b-4f0e-b0af-9ffed525e71c button');\n",
              "      quickchartButtonEl.style.display =\n",
              "        google.colab.kernel.accessAllowed ? 'block' : 'none';\n",
              "    })();\n",
              "  </script>\n",
              "</div>\n",
              "\n",
              "  <div id=\"id_18b725a7-8d68-49e0-bf52-2ddd48a79fa8\">\n",
              "    <style>\n",
              "      .colab-df-generate {\n",
              "        background-color: #E8F0FE;\n",
              "        border: none;\n",
              "        border-radius: 50%;\n",
              "        cursor: pointer;\n",
              "        display: none;\n",
              "        fill: #1967D2;\n",
              "        height: 32px;\n",
              "        padding: 0 0 0 0;\n",
              "        width: 32px;\n",
              "      }\n",
              "\n",
              "      .colab-df-generate:hover {\n",
              "        background-color: #E2EBFA;\n",
              "        box-shadow: 0px 1px 2px rgba(60, 64, 67, 0.3), 0px 1px 3px 1px rgba(60, 64, 67, 0.15);\n",
              "        fill: #174EA6;\n",
              "      }\n",
              "\n",
              "      [theme=dark] .colab-df-generate {\n",
              "        background-color: #3B4455;\n",
              "        fill: #D2E3FC;\n",
              "      }\n",
              "\n",
              "      [theme=dark] .colab-df-generate:hover {\n",
              "        background-color: #434B5C;\n",
              "        box-shadow: 0px 1px 3px 1px rgba(0, 0, 0, 0.15);\n",
              "        filter: drop-shadow(0px 1px 2px rgba(0, 0, 0, 0.3));\n",
              "        fill: #FFFFFF;\n",
              "      }\n",
              "    </style>\n",
              "    <button class=\"colab-df-generate\" onclick=\"generateWithVariable('misclassified_samples')\"\n",
              "            title=\"Generate code using this dataframe.\"\n",
              "            style=\"display:none;\">\n",
              "\n",
              "  <svg xmlns=\"http://www.w3.org/2000/svg\" height=\"24px\"viewBox=\"0 0 24 24\"\n",
              "       width=\"24px\">\n",
              "    <path d=\"M7,19H8.4L18.45,9,17,7.55,7,17.6ZM5,21V16.75L18.45,3.32a2,2,0,0,1,2.83,0l1.4,1.43a1.91,1.91,0,0,1,.58,1.4,1.91,1.91,0,0,1-.58,1.4L9.25,21ZM18.45,9,17,7.55Zm-12,3A5.31,5.31,0,0,0,4.9,8.1,5.31,5.31,0,0,0,1,6.5,5.31,5.31,0,0,0,4.9,4.9,5.31,5.31,0,0,0,6.5,1,5.31,5.31,0,0,0,8.1,4.9,5.31,5.31,0,0,0,12,6.5,5.46,5.46,0,0,0,6.5,12Z\"/>\n",
              "  </svg>\n",
              "    </button>\n",
              "    <script>\n",
              "      (() => {\n",
              "      const buttonEl =\n",
              "        document.querySelector('#id_18b725a7-8d68-49e0-bf52-2ddd48a79fa8 button.colab-df-generate');\n",
              "      buttonEl.style.display =\n",
              "        google.colab.kernel.accessAllowed ? 'block' : 'none';\n",
              "\n",
              "      buttonEl.onclick = () => {\n",
              "        google.colab.notebook.generateWithVariable('misclassified_samples');\n",
              "      }\n",
              "      })();\n",
              "    </script>\n",
              "  </div>\n",
              "\n",
              "    </div>\n",
              "  </div>\n"
            ],
            "application/vnd.google.colaboratory.intrinsic+json": {
              "type": "dataframe",
              "variable_name": "misclassified_samples"
            }
          },
          "metadata": {},
          "execution_count": 17
        }
      ]
    },
    {
      "cell_type": "markdown",
      "source": [
        "#### 34) Train a Bagging Classifier and compare its performance with a single Decision Tree Classifier."
      ],
      "metadata": {
        "id": "bvaawb1GLFU-"
      }
    },
    {
      "cell_type": "code",
      "source": [
        "from sklearn.ensemble import BaggingClassifier\n",
        "from sklearn.tree import DecisionTreeClassifier\n",
        "from sklearn.model_selection import train_test_split\n",
        "from sklearn.datasets import make_classification\n",
        "from sklearn.metrics import accuracy_score\n",
        "\n",
        "# Generate a sample dataset\n",
        "X, y = make_classification(n_samples=1000, n_features=20, n_informative=15, n_redundant=2, random_state=42)\n",
        "\n",
        "# Split the dataset into training and testing sets\n",
        "X_train, X_test, y_train, y_test = train_test_split(X, y, test_size=0.2, random_state=42)\n",
        "\n",
        "# Train a single Decision Tree Classifier\n",
        "dt_clf = DecisionTreeClassifier(random_state=42)\n",
        "dt_clf.fit(X_train, y_train)\n",
        "dt_pred = dt_clf.predict(X_test)\n",
        "dt_accuracy = accuracy_score(y_test, dt_pred)\n",
        "print(f\"Decision Tree Classifier Accuracy: {dt_accuracy}\")\n",
        "\n",
        "# Create a Bagging Classifier with Decision Tree as the base estimator\n",
        "bagging_clf = BaggingClassifier(estimator=DecisionTreeClassifier(), n_estimators=10, random_state=42)\n",
        "\n",
        "# Train the classifier\n",
        "bagging_clf.fit(X_train, y_train)\n",
        "\n",
        "# Make predictions on the test set\n",
        "y_pred = bagging_clf.predict(X_test)\n",
        "\n",
        "# Evaluate the model's accuracy\n",
        "bagging_accuracy = accuracy_score(y_test, y_pred)\n",
        "print(f\"Bagging Classifier Accuracy: {bagging_accuracy}\")\n",
        "\n",
        "#Compare the performance\n",
        "print(f\"Difference in accuracy: {bagging_accuracy - dt_accuracy}\")"
      ],
      "metadata": {
        "colab": {
          "base_uri": "https://localhost:8080/"
        },
        "id": "UzhdxidiLRAJ",
        "outputId": "33c9220f-ffd6-4c9f-dc7b-88db6ca7d369"
      },
      "execution_count": 18,
      "outputs": [
        {
          "output_type": "stream",
          "name": "stdout",
          "text": [
            "Decision Tree Classifier Accuracy: 0.795\n",
            "Bagging Classifier Accuracy: 0.825\n",
            "Difference in accuracy: 0.029999999999999916\n"
          ]
        }
      ]
    },
    {
      "cell_type": "markdown",
      "source": [
        "#### 35) Train a Random Forest Classifier and visualize the confusion matrix."
      ],
      "metadata": {
        "id": "VlkeUnlJLTHW"
      }
    },
    {
      "cell_type": "code",
      "source": [
        "from sklearn.ensemble import RandomForestClassifier\n",
        "from sklearn.datasets import load_breast_cancer\n",
        "from sklearn.model_selection import train_test_split\n",
        "from sklearn.metrics import confusion_matrix\n",
        "import matplotlib.pyplot as plt\n",
        "import seaborn as sns\n",
        "\n",
        "# Load the breast cancer dataset\n",
        "data = load_breast_cancer()\n",
        "X, y = data.data, data.target\n",
        "\n",
        "# Split data into training and testing sets\n",
        "X_train, X_test, y_train, y_test = train_test_split(X, y, test_size=0.3, random_state=42)\n",
        "\n",
        "# Initialize and train a Random Forest Classifier\n",
        "rf_classifier = RandomForestClassifier(n_estimators=100, random_state=42)\n",
        "rf_classifier.fit(X_train, y_train)\n",
        "\n",
        "# Make predictions on the test set\n",
        "y_pred = rf_classifier.predict(X_test)\n",
        "\n",
        "# Compute the confusion matrix\n",
        "cm = confusion_matrix(y_test, y_pred)\n",
        "\n",
        "# Visualize the confusion matrix using seaborn\n",
        "plt.figure(figsize=(8, 6))\n",
        "sns.heatmap(cm, annot=True, fmt='d', cmap='Blues',\n",
        "            xticklabels=data.target_names, yticklabels=data.target_names)\n",
        "plt.xlabel('Predicted')\n",
        "plt.ylabel('True')\n",
        "plt.title('Confusion Matrix')\n",
        "plt.show()"
      ],
      "metadata": {
        "colab": {
          "base_uri": "https://localhost:8080/",
          "height": 564
        },
        "id": "5pvlF5KqLcyn",
        "outputId": "25fc9f6d-9eea-4f41-e884-f49793c6ff07"
      },
      "execution_count": 19,
      "outputs": [
        {
          "output_type": "display_data",
          "data": {
            "text/plain": [
              "<Figure size 800x600 with 2 Axes>"
            ],
            "image/png": "[encoded data removed]"
          },
          "metadata": {}
        }
      ]
    },
    {
      "cell_type": "markdown",
      "source": [
        "#### 36)  Train a Stacking Classifier using Decision Trees, SVM, and Logistic Regression, and compare accuracy."
      ],
      "metadata": {
        "id": "l7i02hsYLhJz"
      }
    },
    {
      "cell_type": "code",
      "source": [
        "from sklearn.ensemble import StackingClassifier\n",
        "from sklearn.linear_model import LogisticRegression\n",
        "from sklearn.svm import SVC\n",
        "from sklearn.tree import DecisionTreeClassifier\n",
        "from sklearn.model_selection import train_test_split\n",
        "from sklearn.datasets import make_classification\n",
        "from sklearn.metrics import accuracy_score\n",
        "\n",
        "# Generate a sample dataset\n",
        "X, y = make_classification(n_samples=1000, n_features=10, n_informative=5, random_state=42)\n",
        "\n",
        "# Split data into training and testing sets\n",
        "X_train, X_test, y_train, y_test = train_test_split(X, y, test_size=0.2, random_state=42)\n",
        "\n",
        "# Define base estimators\n",
        "estimators = [\n",
        "    ('dt', DecisionTreeClassifier(random_state=42)),\n",
        "    ('svm', SVC(probability=True, random_state=42)),  # probability=True is required for stacking\n",
        "    ('lr', LogisticRegression(random_state=42))\n",
        "]\n",
        "\n",
        "# Initialize Stacking Classifier with Logistic Regression as the final estimator\n",
        "stacking_clf = StackingClassifier(estimators=estimators, final_estimator=LogisticRegression(), cv=5)\n",
        "\n",
        "# Train the stacking classifier\n",
        "stacking_clf.fit(X_train, y_train)\n",
        "\n",
        "# Make predictions\n",
        "y_pred = stacking_clf.predict(X_test)\n",
        "\n",
        "# Evaluate accuracy\n",
        "accuracy = accuracy_score(y_test, y_pred)\n",
        "print(f\"Accuracy of Stacking Classifier: {accuracy}\")\n",
        "\n",
        "# Train individual classifiers for comparison\n",
        "for name, clf in estimators:\n",
        "    clf.fit(X_train, y_train)\n",
        "    y_pred_clf = clf.predict(X_test)\n",
        "    accuracy_clf = accuracy_score(y_test, y_pred_clf)\n",
        "    print(f\"Accuracy of {name}: {accuracy_clf}\")"
      ],
      "metadata": {
        "colab": {
          "base_uri": "https://localhost:8080/"
        },
        "id": "hVbCtN4iLrW-",
        "outputId": "f55ec50f-2bc2-4485-fa23-cb3d3c264022"
      },
      "execution_count": 20,
      "outputs": [
        {
          "output_type": "stream",
          "name": "stdout",
          "text": [
            "Accuracy of Stacking Classifier: 0.935\n",
            "Accuracy of dt: 0.895\n",
            "Accuracy of svm: 0.92\n",
            "Accuracy of lr: 0.835\n"
          ]
        }
      ]
    },
    {
      "cell_type": "markdown",
      "source": [
        "#### 37) Train a Random Forest Classifier and print the top 5 most important features."
      ],
      "metadata": {
        "id": "T5Me31qQLxRo"
      }
    },
    {
      "cell_type": "code",
      "source": [
        "from sklearn.ensemble import RandomForestClassifier\n",
        "from sklearn.datasets import load_breast_cancer\n",
        "import pandas as pd\n",
        "\n",
        "# Load the breast cancer dataset\n",
        "data = load_breast_cancer()\n",
        "X, y = data.data, data.target\n",
        "\n",
        "# Initialize and train a Random Forest Classifier\n",
        "rf_classifier = RandomForestClassifier(n_estimators=100, random_state=42)\n",
        "rf_classifier.fit(X, y)\n",
        "\n",
        "# Get feature importances\n",
        "feature_importances = rf_classifier.feature_importances_\n",
        "\n",
        "# Create a DataFrame for better visualization\n",
        "feature_importance_df = pd.DataFrame({'Feature': data.feature_names, 'Importance': feature_importances})\n",
        "feature_importance_df = feature_importance_df.sort_values(by='Importance', ascending=False)\n",
        "\n",
        "# Print the top 5 most important features\n",
        "print(\"\\nTop 5 Most Important Features:\")\n",
        "print(feature_importance_df.head(5))"
      ],
      "metadata": {
        "colab": {
          "base_uri": "https://localhost:8080/"
        },
        "id": "42h3WTX6L6Po",
        "outputId": "21b629a8-d4ae-43ca-ffe7-4ff9f0dc4bc8"
      },
      "execution_count": 21,
      "outputs": [
        {
          "output_type": "stream",
          "name": "stdout",
          "text": [
            "\n",
            "Top 5 Most Important Features:\n",
            "                 Feature  Importance\n",
            "23            worst area    0.139357\n",
            "27  worst concave points    0.132225\n",
            "7    mean concave points    0.107046\n",
            "20          worst radius    0.082848\n",
            "22       worst perimeter    0.080850\n"
          ]
        }
      ]
    },
    {
      "cell_type": "markdown",
      "source": [
        "#### 38) Train a Bagging Classifier and evaluate performance using Precision, Recall, and F1-score."
      ],
      "metadata": {
        "id": "Eqop5Yn1L832"
      }
    },
    {
      "cell_type": "code",
      "source": [
        "from sklearn.metrics import precision_score, recall_score, f1_score\n",
        "\n",
        "# Evaluate the model using precision, recall, and F1-score\n",
        "precision = precision_score(y_test, y_pred)\n",
        "recall = recall_score(y_test, y_pred)\n",
        "f1 = f1_score(y_test, y_pred)\n",
        "\n",
        "print(f\"Precision: {precision}\")\n",
        "print(f\"Recall: {recall}\")\n",
        "print(f\"F1-score: {f1}\")"
      ],
      "metadata": {
        "colab": {
          "base_uri": "https://localhost:8080/"
        },
        "id": "Nj88RkssMJ0D",
        "outputId": "a71e0add-06e3-4a84-d7bd-c5f795d02715"
      },
      "execution_count": 22,
      "outputs": [
        {
          "output_type": "stream",
          "name": "stdout",
          "text": [
            "Precision: 0.9310344827586207\n",
            "Recall: 0.9204545454545454\n",
            "F1-score: 0.9257142857142857\n"
          ]
        }
      ]
    },
    {
      "cell_type": "markdown",
      "source": [
        "#### 39) Train a Random Forest Classifier and analyze the effect of max_depth on accuracy."
      ],
      "metadata": {
        "id": "iGBplsWoMLar"
      }
    },
    {
      "cell_type": "code",
      "source": [
        "from sklearn.ensemble import RandomForestClassifier\n",
        "from sklearn.model_selection import train_test_split\n",
        "from sklearn.datasets import load_breast_cancer\n",
        "from sklearn.metrics import accuracy_score\n",
        "import matplotlib.pyplot as plt\n",
        "\n",
        "# Load the breast cancer dataset\n",
        "data = load_breast_cancer()\n",
        "X, y = data.data, data.target\n",
        "\n",
        "# Split data into training and testing sets\n",
        "X_train, X_test, y_train, y_test = train_test_split(X, y, test_size=0.3, random_state=42)\n",
        "\n",
        "# Define a list of max_depth values to try\n",
        "max_depth_values = [None, 5, 10, 15, 20]\n",
        "accuracy_scores = []\n",
        "\n",
        "for max_depth in max_depth_values:\n",
        "    # Initialize and train a Random Forest Classifier\n",
        "    rf_classifier = RandomForestClassifier(n_estimators=100, max_depth=max_depth, random_state=42)\n",
        "    rf_classifier.fit(X_train, y_train)\n",
        "\n",
        "    # Make predictions\n",
        "    y_pred = rf_classifier.predict(X_test)\n",
        "\n",
        "    # Evaluate accuracy\n",
        "    accuracy = accuracy_score(y_test, y_pred)\n",
        "    accuracy_scores.append(accuracy)\n",
        "    print(f\"Accuracy with max_depth={max_depth}: {accuracy}\")\n",
        "\n",
        "# Plot the accuracy scores against max_depth values\n",
        "plt.plot(max_depth_values, accuracy_scores, marker='o')\n",
        "plt.xlabel('Max Depth')\n",
        "plt.ylabel('Accuracy')\n",
        "plt.title('Effect of Max Depth on Accuracy')\n",
        "plt.grid(True)\n",
        "plt.show()"
      ],
      "metadata": {
        "colab": {
          "base_uri": "https://localhost:8080/",
          "height": 559
        },
        "id": "x1ZIIlgBMVY9",
        "outputId": "69b30e29-e9c1-4c7c-d8c3-20407f6c4ab2"
      },
      "execution_count": 23,
      "outputs": [
        {
          "output_type": "stream",
          "name": "stdout",
          "text": [
            "Accuracy with max_depth=None: 0.9707602339181286\n",
            "Accuracy with max_depth=5: 0.9649122807017544\n",
            "Accuracy with max_depth=10: 0.9707602339181286\n",
            "Accuracy with max_depth=15: 0.9707602339181286\n",
            "Accuracy with max_depth=20: 0.9707602339181286\n"
          ]
        },
        {
          "output_type": "display_data",
          "data": {
            "text/plain": [
              "<Figure size 640x480 with 1 Axes>"
            ],
            "image/png": "[encoded data removed]"
          },
          "metadata": {}
        }
      ]
    },
    {
      "cell_type": "markdown",
      "source": [
        "#### 40) Train a Bagging Regressor using different base estimators (DecisionTree and KNeighbors) and compare performance."
      ],
      "metadata": {
        "id": "leGXCMhSMab4"
      }
    },
    {
      "cell_type": "code",
      "source": [
        "from sklearn.ensemble import BaggingRegressor\n",
        "from sklearn.tree import DecisionTreeRegressor\n",
        "from sklearn.neighbors import KNeighborsRegressor\n",
        "from sklearn.metrics import mean_squared_error\n",
        "from sklearn.datasets import make_regression\n",
        "from sklearn.model_selection import train_test_split\n",
        "\n",
        "# Generate a sample regression dataset\n",
        "X, y = make_regression(n_samples=1000, n_features=10, n_informative=5, noise=0.5, random_state=42)\n",
        "\n",
        "# Split data into training and testing sets\n",
        "X_train, X_test, y_train, y_test = train_test_split(X, y, test_size=0.3, random_state=42)\n",
        "\n",
        "# Bagging Regressor with Decision Tree\n",
        "bagging_dt = BaggingRegressor(estimator=DecisionTreeRegressor(), n_estimators=100, random_state=42)\n",
        "bagging_dt.fit(X_train, y_train)\n",
        "y_pred_dt = bagging_dt.predict(X_test)\n",
        "mse_dt = mean_squared_error(y_test, y_pred_dt)\n",
        "print(f\"Bagging with Decision Tree MSE: {mse_dt}\")\n",
        "\n",
        "# Bagging Regressor with KNeighbors\n",
        "bagging_knn = BaggingRegressor(estimator=KNeighborsRegressor(), n_estimators=100, random_state=42)\n",
        "bagging_knn.fit(X_train, y_train)\n",
        "y_pred_knn = bagging_knn.predict(X_test)\n",
        "mse_knn = mean_squared_error(y_test, y_pred_knn)\n",
        "print(f\"Bagging with KNeighbors MSE: {mse_knn}\")\n",
        "\n",
        "# Compare performance\n",
        "print(f\"Difference in MSE: {mse_dt-mse_knn}\")"
      ],
      "metadata": {
        "colab": {
          "base_uri": "https://localhost:8080/"
        },
        "id": "ilCuwxekMllO",
        "outputId": "b34cf3ed-1d29-4e7d-b4fa-33399906e28b"
      },
      "execution_count": 24,
      "outputs": [
        {
          "output_type": "stream",
          "name": "stdout",
          "text": [
            "Bagging with Decision Tree MSE: 211.9287143625142\n",
            "Bagging with KNeighbors MSE: 759.2343285178425\n",
            "Difference in MSE: -547.3056141553284\n"
          ]
        }
      ]
    },
    {
      "cell_type": "markdown",
      "source": [
        "#### 41)  Train a Random Forest Classifier and evaluate its performance using ROC-AUC Score."
      ],
      "metadata": {
        "id": "c61kvtUxMn-5"
      }
    },
    {
      "cell_type": "code",
      "source": [
        "from sklearn.metrics import roc_auc_score\n",
        "from sklearn.ensemble import RandomForestClassifier\n",
        "from sklearn.model_selection import train_test_split\n",
        "from sklearn.datasets import load_breast_cancer\n",
        "\n",
        "# Load the breast cancer dataset\n",
        "data = load_breast_cancer()\n",
        "X, y = data.data, data.target\n",
        "\n",
        "# Split data into training and testing sets\n",
        "X_train, X_test, y_train, y_test = train_test_split(X, y, test_size=0.3, random_state=42)\n",
        "\n",
        "# Initialize and train a Random Forest Classifier\n",
        "rf_classifier = RandomForestClassifier(n_estimators=100, random_state=42)\n",
        "rf_classifier.fit(X_train, y_train)\n",
        "\n",
        "# Make predictions on the test set\n",
        "y_pred_prob = rf_classifier.predict_proba(X_test)[:, 1]\n",
        "\n",
        "# Evaluate the model using ROC-AUC score\n",
        "roc_auc = roc_auc_score(y_test, y_pred_prob)\n",
        "print(f\"ROC-AUC Score: {roc_auc}\")"
      ],
      "metadata": {
        "colab": {
          "base_uri": "https://localhost:8080/"
        },
        "id": "mXhGSzm7MyUU",
        "outputId": "a2eb5dc0-51d0-411e-a3a1-7337d3cb41d3"
      },
      "execution_count": 25,
      "outputs": [
        {
          "output_type": "stream",
          "name": "stdout",
          "text": [
            "ROC-AUC Score: 0.9968400940623163\n"
          ]
        }
      ]
    },
    {
      "cell_type": "markdown",
      "source": [
        "#### 42) Train a Bagging Classifier and evaluate its performance using cross-validation."
      ],
      "metadata": {
        "id": "bTSoXk5qM0JD"
      }
    },
    {
      "cell_type": "code",
      "source": [
        "from sklearn.model_selection import cross_val_score\n",
        "from sklearn.ensemble import BaggingClassifier\n",
        "from sklearn.tree import DecisionTreeClassifier\n",
        "\n",
        "# Load the breast cancer dataset\n",
        "data = load_breast_cancer()\n",
        "X, y = data.data, data.target\n",
        "\n",
        "# Split data into training and testing sets\n",
        "X_train, X_test, y_train, y_test = train_test_split(X, y, test_size=0.3, random_state=42)\n",
        "\n",
        "# Initialize a Bagging Classifier\n",
        "bagging_clf = BaggingClassifier(estimator=DecisionTreeClassifier(), n_estimators=10, random_state=42)\n",
        "\n",
        "# Perform 5-fold cross-validation\n",
        "cv_scores = cross_val_score(bagging_clf, X, y, cv=5, scoring='accuracy')\n",
        "\n",
        "# Print the cross-validation scores\n",
        "print(\"Cross-Validation Scores:\", cv_scores)\n",
        "print(\"Mean Accuracy:\", cv_scores.mean())\n",
        "print(\"Standard Deviation:\", cv_scores.std())"
      ],
      "metadata": {
        "colab": {
          "base_uri": "https://localhost:8080/"
        },
        "id": "_NUIat1WNKus",
        "outputId": "0f511676-857d-40c4-b378-30acf314fa73"
      },
      "execution_count": 26,
      "outputs": [
        {
          "output_type": "stream",
          "name": "stdout",
          "text": [
            "Cross-Validation Scores: [0.92982456 0.93859649 0.97368421 0.93859649 0.97345133]\n",
            "Mean Accuracy: 0.9508306163639186\n",
            "Standard Deviation: 0.01883924263933025\n"
          ]
        }
      ]
    },
    {
      "cell_type": "markdown",
      "source": [
        "#### 43) Train a Random Forest Classifier and plot the Precision-Recall curve."
      ],
      "metadata": {
        "id": "-JCs_Ze-NNHk"
      }
    },
    {
      "cell_type": "code",
      "source": [
        "import matplotlib.pyplot as plt\n",
        "from sklearn.datasets import load_breast_cancer\n",
        "from sklearn.ensemble import RandomForestClassifier\n",
        "from sklearn.metrics import precision_recall_curve, average_precision_score\n",
        "from sklearn.model_selection import train_test_split\n",
        "\n",
        "# Step 1: Load sample dataset\n",
        "data = load_breast_cancer()\n",
        "X, y = data.data, data.target\n",
        "\n",
        "# Step 2: Train-test split\n",
        "X_train, X_test, y_train, y_test = train_test_split(X, y, test_size=0.3, random_state=42)\n",
        "\n",
        "# Step 3: Train Random Forest Classifier\n",
        "clf = RandomForestClassifier(random_state=42)\n",
        "clf.fit(X_train, y_train)\n",
        "\n",
        "# Step 4: Predict probabilities for test data\n",
        "y_scores = clf.predict_proba(X_test)[:, 1]  # Probability of the positive class\n",
        "\n",
        "# Step 5: Compute Precision-Recall pairs\n",
        "precision, recall, thresholds = precision_recall_curve(y_test, y_scores)\n",
        "average_precision = average_precision_score(y_test, y_scores)\n",
        "\n",
        "# Step 6: Plot Precision-Recall curve\n",
        "plt.figure(figsize=(8, 6))\n",
        "plt.plot(recall, precision, label=f'PR Curve (AP = {average_precision:.2f})', color='darkorange')\n",
        "plt.xlabel('Recall')\n",
        "plt.ylabel('Precision')\n",
        "plt.title('Precision-Recall Curve for Random Forest')\n",
        "plt.legend()\n",
        "plt.grid(True)\n",
        "plt.show()"
      ],
      "metadata": {
        "colab": {
          "base_uri": "https://localhost:8080/",
          "height": 564
        },
        "id": "hMfpuKhhNoQ5",
        "outputId": "dbde4f8f-a797-47b8-e184-8d4950aed179"
      },
      "execution_count": 27,
      "outputs": [
        {
          "output_type": "display_data",
          "data": {
            "text/plain": [
              "<Figure size 800x600 with 1 Axes>"
            ],
            "image/png": "[encoded data removed]"
          },
          "metadata": {}
        }
      ]
    },
    {
      "cell_type": "markdown",
      "source": [
        "#### 44) Train a Stacking Classifier with Random Forest and Logistic Regression and compare accuracy."
      ],
      "metadata": {
        "id": "J5KcFLijNsQq"
      }
    },
    {
      "cell_type": "code",
      "source": [
        "import warnings\n",
        "from sklearn.exceptions import ConvergenceWarning\n",
        "warnings.filterwarnings(\"ignore\", category=ConvergenceWarning)\n",
        "\n",
        "from sklearn.datasets import load_breast_cancer\n",
        "from sklearn.ensemble import RandomForestClassifier, StackingClassifier\n",
        "from sklearn.linear_model import LogisticRegression\n",
        "from sklearn.model_selection import train_test_split\n",
        "from sklearn.metrics import accuracy_score\n",
        "from sklearn.pipeline import make_pipeline\n",
        "from sklearn.preprocessing import StandardScaler\n",
        "\n",
        "# Step 1: Load dataset\n",
        "data = load_breast_cancer()\n",
        "X, y = data.data, data.target\n",
        "\n",
        "# Step 2: Train-test split\n",
        "X_train, X_test, y_train, y_test = train_test_split(X, y, test_size=0.3, random_state=42)\n",
        "\n",
        "# Step 3: Create pipelines with scaling\n",
        "rf = make_pipeline(StandardScaler(), RandomForestClassifier(random_state=42))\n",
        "lr = make_pipeline(StandardScaler(), LogisticRegression(max_iter=1000, random_state=42))\n",
        "\n",
        "# Step 4: Train base models\n",
        "rf.fit(X_train, y_train)\n",
        "lr.fit(X_train, y_train)\n",
        "\n",
        "# Step 5: Stacking classifier\n",
        "stacked_model = StackingClassifier(\n",
        "    estimators=[('rf', rf), ('lr', lr)],\n",
        "    final_estimator=LogisticRegression(max_iter=1000),\n",
        "    passthrough=True,\n",
        "    cv=5\n",
        ")\n",
        "\n",
        "# Step 6: Train stacking model\n",
        "stacked_model.fit(X_train, y_train)\n",
        "\n",
        "# Step 7: Evaluate accuracy\n",
        "rf_acc = accuracy_score(y_test, rf.predict(X_test))\n",
        "lr_acc = accuracy_score(y_test, lr.predict(X_test))\n",
        "stack_acc = accuracy_score(y_test, stacked_model.predict(X_test))\n",
        "\n",
        "# Step 8: Print comparison\n",
        "print(f\"Random Forest Accuracy:       {rf_acc:.4f}\")\n",
        "print(f\"Logistic Regression Accuracy: {lr_acc:.4f}\")\n",
        "print(f\"Stacking Classifier Accuracy: {stack_acc:.4f}\")"
      ],
      "metadata": {
        "colab": {
          "base_uri": "https://localhost:8080/"
        },
        "id": "mI1DA3cPN81t",
        "outputId": "d8998f2a-100e-433b-e7e4-212b2209bba6"
      },
      "execution_count": 31,
      "outputs": [
        {
          "output_type": "stream",
          "name": "stdout",
          "text": [
            "Random Forest Accuracy:       0.9708\n",
            "Logistic Regression Accuracy: 0.9825\n",
            "Stacking Classifier Accuracy: 0.9825\n"
          ]
        }
      ]
    },
    {
      "cell_type": "markdown",
      "source": [
        "#### 45) Train a Bagging Regressor with different levels of bootstrap samples and compare performance."
      ],
      "metadata": {
        "id": "-H4uLbvqO0eR"
      }
    },
    {
      "cell_type": "code",
      "source": [
        "from sklearn.ensemble import BaggingRegressor\n",
        "from sklearn.tree import DecisionTreeRegressor\n",
        "from sklearn.datasets import make_regression\n",
        "from sklearn.metrics import mean_squared_error\n",
        "from sklearn.model_selection import train_test_split\n",
        "import numpy as np\n",
        "\n",
        "# Generate a sample regression dataset\n",
        "X, y = make_regression(n_samples=1000, n_features=10, n_informative=5, noise=0.5, random_state=42)\n",
        "\n",
        "# Split data into training and testing sets\n",
        "X_train, X_test, y_train, y_test = train_test_split(X, y, test_size=0.3, random_state=42)\n",
        "\n",
        "# Bootstrap sample ratios to try\n",
        "bootstrap_ratios = [0.5, 0.7, 0.9, 1.0]  # Varying bootstrap sample sizes\n",
        "\n",
        "for ratio in bootstrap_ratios:\n",
        "    # Initialize BaggingRegressor with DecisionTreeRegressor as the base estimator\n",
        "    bagging_regressor = BaggingRegressor(\n",
        "        estimator=DecisionTreeRegressor(),\n",
        "        n_estimators=100,\n",
        "        max_samples=ratio,  # Control bootstrap sample size\n",
        "        random_state=42\n",
        "    )\n",
        "\n",
        "    # Train the model\n",
        "    bagging_regressor.fit(X_train, y_train)\n",
        "\n",
        "    # Make predictions\n",
        "    y_pred = bagging_regressor.predict(X_test)\n",
        "\n",
        "    # Evaluate using Mean Squared Error\n",
        "    mse = mean_squared_error(y_test, y_pred)\n",
        "    print(f\"Mean Squared Error with bootstrap ratio {ratio}: {mse}\")"
      ],
      "metadata": {
        "colab": {
          "base_uri": "https://localhost:8080/"
        },
        "id": "bbOvSrKjO-nf",
        "outputId": "304f17ac-429a-4150-8db0-9894912c75c6"
      },
      "execution_count": 32,
      "outputs": [
        {
          "output_type": "stream",
          "name": "stdout",
          "text": [
            "Mean Squared Error with bootstrap ratio 0.5: 216.63787089019624\n",
            "Mean Squared Error with bootstrap ratio 0.7: 209.3257748400233\n",
            "Mean Squared Error with bootstrap ratio 0.9: 206.34842073615772\n",
            "Mean Squared Error with bootstrap ratio 1.0: 211.9287143625142\n"
          ]
        }
      ]
    },
    {
      "cell_type": "code",
      "source": [],
      "metadata": {
        "id": "qx3k9-HNO_DS"
      },
      "execution_count": null,
      "outputs": []
    }
  ]
}